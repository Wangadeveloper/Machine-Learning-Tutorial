{
 "cells": [
  {
   "cell_type": "code",
   "execution_count": 1,
   "id": "3edbbf26",
   "metadata": {
    "execution": {
     "iopub.execute_input": "2025-09-16T11:35:34.193489Z",
     "iopub.status.busy": "2025-09-16T11:35:34.193156Z",
     "iopub.status.idle": "2025-09-16T11:35:36.365892Z",
     "shell.execute_reply": "2025-09-16T11:35:36.364607Z"
    },
    "executionInfo": {
     "elapsed": 319,
     "status": "ok",
     "timestamp": 1757939017576,
     "user": {
      "displayName": "WANGA PETER OTIENO PA106/G/15065/21",
      "userId": "04631351876979831553"
     },
     "user_tz": -180
    },
    "id": "IgMeHLvBU1bL",
    "outputId": "59951880-f619-49ca-b553-d22afc817295",
    "papermill": {
     "duration": 2.177358,
     "end_time": "2025-09-16T11:35:36.367488",
     "exception": false,
     "start_time": "2025-09-16T11:35:34.190130",
     "status": "completed"
    },
    "tags": []
   },
   "outputs": [
    {
     "name": "stdout",
     "output_type": "stream",
     "text": [
      "   Hours_Studied  Sleep_Hours  Attendance  Exam_Score\n",
      "0              7            7          79       111.5\n",
      "1              4            6          81        89.5\n",
      "2              8            8          87       118.5\n",
      "3              5            7          99       104.5\n",
      "4              7            6          66       102.0\n"
     ]
    }
   ],
   "source": [
    "import pandas as pd\n",
    "import numpy as np\n",
    "\n",
    "# Set seed for reproducibility\n",
    "np.random.seed(42)\n",
    "\n",
    "# Generate synthetic data\n",
    "n = 500\n",
    "hours_studied = np.random.randint(1, 10, n)\n",
    "sleep_hours = np.random.randint(4, 9, n)\n",
    "attendance = np.random.randint(60, 100, n)\n",
    "\n",
    "# Formula for exam score (with some randomness)\n",
    "exam_score = (hours_studied * 7) + (sleep_hours * 3) + (attendance * 0.5) + np.random.randint(-5, 5, n)\n",
    "\n",
    "# Build dataframe\n",
    "df = pd.DataFrame({\n",
    "    \"Hours_Studied\": hours_studied,\n",
    "    \"Sleep_Hours\": sleep_hours,\n",
    "    \"Attendance\": attendance,\n",
    "    \"Exam_Score\": exam_score\n",
    "})\n",
    "\n",
    "# Save to CSV\n",
    "df.to_csv(\"student_performance.csv\", index=False)\n",
    "print(df.head())\n"
   ]
  },
  {
   "cell_type": "code",
   "execution_count": null,
   "id": "cfb208b4",
   "metadata": {
    "id": "9fDSWxpvVGz6",
    "papermill": {
     "duration": 0.001423,
     "end_time": "2025-09-16T11:35:36.370873",
     "exception": false,
     "start_time": "2025-09-16T11:35:36.369450",
     "status": "completed"
    },
    "tags": []
   },
   "outputs": [],
   "source": []
  }
 ],
 "metadata": {
  "colab": {
   "authorship_tag": "ABX9TyPBLVneKWGB4RuKznSSvrCi",
   "provenance": []
  },
  "kaggle": {
   "accelerator": "none",
   "dataSources": [],
   "isGpuEnabled": false,
   "isInternetEnabled": true,
   "language": "python",
   "sourceType": "notebook"
  },
  "kernelspec": {
   "display_name": "Python 3",
   "name": "python3"
  },
  "language_info": {
   "codemirror_mode": {
    "name": "ipython",
    "version": 3
   },
   "file_extension": ".py",
   "mimetype": "text/x-python",
   "name": "python",
   "nbconvert_exporter": "python",
   "pygments_lexer": "ipython3",
   "version": "3.11.13"
  },
  "papermill": {
   "default_parameters": {},
   "duration": 8.977555,
   "end_time": "2025-09-16T11:35:36.892234",
   "environment_variables": {},
   "exception": null,
   "input_path": "__notebook__.ipynb",
   "output_path": "__notebook__.ipynb",
   "parameters": {},
   "start_time": "2025-09-16T11:35:27.914679",
   "version": "2.6.0"
  }
 },
 "nbformat": 4,
 "nbformat_minor": 5
}
