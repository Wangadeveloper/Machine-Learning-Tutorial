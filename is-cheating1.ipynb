{
 "cells": [
  {
   "cell_type": "code",
   "execution_count": 1,
   "id": "72d4ba74",
   "metadata": {
    "_cell_guid": "b1076dfc-b9ad-4769-8c92-a6c4dae69d19",
    "_uuid": "8f2839f25d086af736a60e9eeb907d3b93b6e0e5",
    "execution": {
     "iopub.execute_input": "2025-10-08T09:38:32.124964Z",
     "iopub.status.busy": "2025-10-08T09:38:32.124708Z",
     "iopub.status.idle": "2025-10-08T09:38:33.994506Z",
     "shell.execute_reply": "2025-10-08T09:38:33.993739Z"
    },
    "papermill": {
     "duration": 1.876011,
     "end_time": "2025-10-08T09:38:33.995777",
     "exception": false,
     "start_time": "2025-10-08T09:38:32.119766",
     "status": "completed"
    },
    "tags": []
   },
   "outputs": [
    {
     "name": "stdout",
     "output_type": "stream",
     "text": [
      "/kaggle/input/mercor-ai-detection/train.csv\n",
      "/kaggle/input/mercor-ai-detection/test.csv\n"
     ]
    }
   ],
   "source": [
    "# This Python 3 environment comes with many helpful analytics libraries installed\n",
    "# It is defined by the kaggle/python Docker image: https://github.com/kaggle/docker-python\n",
    "# For example, here's several helpful packages to load\n",
    "\n",
    "import numpy as np # linear algebra\n",
    "import pandas as pd # data processing, CSV file I/O (e.g. pd.read_csv)\n",
    "\n",
    "# Input data files are available in the read-only \"../input/\" directory\n",
    "# For example, running this (by clicking run or pressing Shift+Enter) will list all files under the input directory\n",
    "\n",
    "import os\n",
    "for dirname, _, filenames in os.walk('/kaggle/input'):\n",
    "    for filename in filenames:\n",
    "        print(os.path.join(dirname, filename))\n",
    "\n",
    "# You can write up to 20GB to the current directory (/kaggle/working/) that gets preserved as output when you create a version using \"Save & Run All\" \n",
    "# You can also write temporary files to /kaggle/temp/, but they won't be saved outside of the current session"
   ]
  },
  {
   "cell_type": "code",
   "execution_count": 2,
   "id": "19bab138",
   "metadata": {
    "execution": {
     "iopub.execute_input": "2025-10-08T09:38:34.003640Z",
     "iopub.status.busy": "2025-10-08T09:38:34.002883Z",
     "iopub.status.idle": "2025-10-08T09:38:34.065068Z",
     "shell.execute_reply": "2025-10-08T09:38:34.064295Z"
    },
    "papermill": {
     "duration": 0.067039,
     "end_time": "2025-10-08T09:38:34.066296",
     "exception": false,
     "start_time": "2025-10-08T09:38:33.999257",
     "status": "completed"
    },
    "tags": []
   },
   "outputs": [
    {
     "data": {
      "text/html": [
       "<div>\n",
       "<style scoped>\n",
       "    .dataframe tbody tr th:only-of-type {\n",
       "        vertical-align: middle;\n",
       "    }\n",
       "\n",
       "    .dataframe tbody tr th {\n",
       "        vertical-align: top;\n",
       "    }\n",
       "\n",
       "    .dataframe thead th {\n",
       "        text-align: right;\n",
       "    }\n",
       "</style>\n",
       "<table border=\"1\" class=\"dataframe\">\n",
       "  <thead>\n",
       "    <tr style=\"text-align: right;\">\n",
       "      <th></th>\n",
       "      <th>id</th>\n",
       "      <th>topic</th>\n",
       "      <th>answer</th>\n",
       "      <th>is_cheating</th>\n",
       "    </tr>\n",
       "  </thead>\n",
       "  <tbody>\n",
       "    <tr>\n",
       "      <th>0</th>\n",
       "      <td>form_r_d5TpupthGXvfy58LDIbkqp</td>\n",
       "      <td>A girl wakes from a dream and she is not sure ...</td>\n",
       "      <td>My eyes flew open, and the air around me feels...</td>\n",
       "      <td>1</td>\n",
       "    </tr>\n",
       "    <tr>\n",
       "      <th>1</th>\n",
       "      <td>form_r_AAABmK2rZBBbtfdHxzhBY4C4</td>\n",
       "      <td>A journalistic review piece about the top 6 ai...</td>\n",
       "      <td>Robot Butlers in the year of 2025. What are th...</td>\n",
       "      <td>0</td>\n",
       "    </tr>\n",
       "    <tr>\n",
       "      <th>2</th>\n",
       "      <td>form_r_Cz6IJIWUj1B7pdyO6zPhGF</td>\n",
       "      <td>The influence of fictional universities in cam...</td>\n",
       "      <td>In recent years, apparel featuring the names a...</td>\n",
       "      <td>1</td>\n",
       "    </tr>\n",
       "    <tr>\n",
       "      <th>3</th>\n",
       "      <td>form_r_AAABmKyCfdO6NLv8eqBPCYD_</td>\n",
       "      <td>Why do girls love horses</td>\n",
       "      <td>The moment before I hit the dirt, I thought we...</td>\n",
       "      <td>0</td>\n",
       "    </tr>\n",
       "    <tr>\n",
       "      <th>4</th>\n",
       "      <td>form_r_WS8I1NJpwvIcFL3Xv0Qhuc</td>\n",
       "      <td>Every year, a remote mountain town elects a ne...</td>\n",
       "      <td>In the valley of Eldermist, were the mountains...</td>\n",
       "      <td>1</td>\n",
       "    </tr>\n",
       "  </tbody>\n",
       "</table>\n",
       "</div>"
      ],
      "text/plain": [
       "                                id  \\\n",
       "0    form_r_d5TpupthGXvfy58LDIbkqp   \n",
       "1  form_r_AAABmK2rZBBbtfdHxzhBY4C4   \n",
       "2    form_r_Cz6IJIWUj1B7pdyO6zPhGF   \n",
       "3  form_r_AAABmKyCfdO6NLv8eqBPCYD_   \n",
       "4    form_r_WS8I1NJpwvIcFL3Xv0Qhuc   \n",
       "\n",
       "                                               topic  \\\n",
       "0  A girl wakes from a dream and she is not sure ...   \n",
       "1  A journalistic review piece about the top 6 ai...   \n",
       "2  The influence of fictional universities in cam...   \n",
       "3                           Why do girls love horses   \n",
       "4  Every year, a remote mountain town elects a ne...   \n",
       "\n",
       "                                              answer  is_cheating  \n",
       "0  My eyes flew open, and the air around me feels...            1  \n",
       "1  Robot Butlers in the year of 2025. What are th...            0  \n",
       "2  In recent years, apparel featuring the names a...            1  \n",
       "3  The moment before I hit the dirt, I thought we...            0  \n",
       "4  In the valley of Eldermist, were the mountains...            1  "
      ]
     },
     "execution_count": 2,
     "metadata": {},
     "output_type": "execute_result"
    }
   ],
   "source": [
    "df = pd.read_csv(\"/kaggle/input/mercor-ai-detection/train.csv\")\n",
    "df.head()"
   ]
  },
  {
   "cell_type": "code",
   "execution_count": 3,
   "id": "158243c0",
   "metadata": {
    "execution": {
     "iopub.execute_input": "2025-10-08T09:38:34.073796Z",
     "iopub.status.busy": "2025-10-08T09:38:34.073595Z",
     "iopub.status.idle": "2025-10-08T09:38:34.078067Z",
     "shell.execute_reply": "2025-10-08T09:38:34.077355Z"
    },
    "papermill": {
     "duration": 0.009268,
     "end_time": "2025-10-08T09:38:34.079261",
     "exception": false,
     "start_time": "2025-10-08T09:38:34.069993",
     "status": "completed"
    },
    "tags": []
   },
   "outputs": [
    {
     "data": {
      "text/plain": [
       "(269, 4)"
      ]
     },
     "execution_count": 3,
     "metadata": {},
     "output_type": "execute_result"
    }
   ],
   "source": [
    "df.shape"
   ]
  },
  {
   "cell_type": "code",
   "execution_count": 4,
   "id": "5656dd1f",
   "metadata": {
    "execution": {
     "iopub.execute_input": "2025-10-08T09:38:34.086432Z",
     "iopub.status.busy": "2025-10-08T09:38:34.086227Z",
     "iopub.status.idle": "2025-10-08T09:38:34.103378Z",
     "shell.execute_reply": "2025-10-08T09:38:34.102626Z"
    },
    "papermill": {
     "duration": 0.02207,
     "end_time": "2025-10-08T09:38:34.104475",
     "exception": false,
     "start_time": "2025-10-08T09:38:34.082405",
     "status": "completed"
    },
    "tags": []
   },
   "outputs": [
    {
     "data": {
      "text/html": [
       "<div>\n",
       "<style scoped>\n",
       "    .dataframe tbody tr th:only-of-type {\n",
       "        vertical-align: middle;\n",
       "    }\n",
       "\n",
       "    .dataframe tbody tr th {\n",
       "        vertical-align: top;\n",
       "    }\n",
       "\n",
       "    .dataframe thead th {\n",
       "        text-align: right;\n",
       "    }\n",
       "</style>\n",
       "<table border=\"1\" class=\"dataframe\">\n",
       "  <thead>\n",
       "    <tr style=\"text-align: right;\">\n",
       "      <th></th>\n",
       "      <th>id</th>\n",
       "      <th>topic</th>\n",
       "      <th>answer</th>\n",
       "      <th>is_cheating</th>\n",
       "    </tr>\n",
       "  </thead>\n",
       "  <tbody>\n",
       "    <tr>\n",
       "      <th>30</th>\n",
       "      <td>form_r_AAABmMMM-3l2k5OJcgBO152T</td>\n",
       "      <td>Marketing in the AI world</td>\n",
       "      <td>Marketing in the AI world is a very hot topic in todays time as every traditional method of marketing is getting reshaped according to the AI trends that we are seeing nowadays. From creating social media post to writing content for a particular project AI has help the marketers to create a new way of putting up things in front of the target audience. Digital Marketing has advanced 10x after the introduction of AI to we can single handedly create campaign extract data create KPI's and do a deep down analysis of how to reach the target audience. But the only disadvantage that we are currently facing with AI is the accuracy of data and information that is available on these platform if each and every information is correct and verified from the source then AI is the best thing that has happened to the Marketing world.</td>\n",
       "      <td>0</td>\n",
       "    </tr>\n",
       "    <tr>\n",
       "      <th>116</th>\n",
       "      <td>form_r_AeSZ88MED4djIBoclFA4VH</td>\n",
       "      <td>How film soundtracks drove candy sales in the 1990s</td>\n",
       "      <td>In the vibrant landscape of 1990s pop culture, film soundtracks and candy brands formed an unlikely but highly successful partnership. Major movie studios recognized that the music from blockbuster films—think “The Bodyguard” or “Space Jam”—could be leveraged beyond the box office. By integrating candy brands into both the films themselves and the surrounding soundtrack marketing, studios created immersive experiences that resonated with younger audiences. Product placements, such as Reese’s Pieces in “E.T.” or M&amp;M’s in “Forrest Gump,” were reinforced by catchy soundtrack singles that dominated radio airwaves and MTV alike. As fans flocked to stores for the latest cassette or CD, strategically positioned candy displays mirrored the excitement of the moviegoing experience. This synergy transformed soundtracks into a marketing vehicle, driving spontaneous candy purchases and forging emotional connections bitween sweet treats and cinematic moments—a testament to the power of cross-promotion in the era’s marketing landscape.</td>\n",
       "      <td>1</td>\n",
       "    </tr>\n",
       "    <tr>\n",
       "      <th>79</th>\n",
       "      <td>form_r_TwbHITgMyoaWc0DQkhI29p</td>\n",
       "      <td>A museum guard watches the paintings move after closing time but can never catch them in the act.</td>\n",
       "      <td>Every night, after the last visitor’s footsteps faded and the echo of closing doors settled into silence, Harold began his ronuds. The museum was a cathedral of stillness, yet Harold could never shake the feeling that he was not alone. Sometimes, in the periphery of his vision, he’d catch a flicker—a brushstroke shifting, a figure turning ever so slightly. He’d whirl around, flashlight beam trembling, but the galleries remained immaculate and motionless. The girl with the pearl earring always looked a bit more amusid, and the ships in the seascape seemed to ride rougher waves. Once, he was sure he heard a laugh—a low, conspiratorial giggle from the Renaissance wing. But when he hurried in, the only sound was his own breath. Each morning, the paintings sat as they always had, serene and static. Yet Harold knew, as surely as he knew his own name, that when the lights dimmed, the art remembered how to move.</td>\n",
       "      <td>1</td>\n",
       "    </tr>\n",
       "    <tr>\n",
       "      <th>127</th>\n",
       "      <td>form_r_AAABmI7MjOEK-tlH7VZBuLs_</td>\n",
       "      <td>Within every piece of evil is a piece of humanity</td>\n",
       "      <td>When a soldier is sent to war, He isn't controlled by his own thoughts, his own convictions, and his own values. But rather, by the orders from the hierarchy.\\n\\nHe has no voice, he has no choice. His heart might scream over an order given to him by the hierarchy, but he has no choice. Can you just imagine what this means!\\n\\nSomeone is being removed from his freedom to think, to act, and to defend his/her own values. usually, beneath those orders, is a silent voice that screams, a silent voice that cries. That is the human part of his being.\\n\\nBut what can he do?</td>\n",
       "      <td>0</td>\n",
       "    </tr>\n",
       "    <tr>\n",
       "      <th>190</th>\n",
       "      <td>form_r_a5OgcvBroE3H37yVkBe5kK</td>\n",
       "      <td>A pilot crash-lands on an uncharted island inhabited by people who think it’s 1923.</td>\n",
       "      <td>The jungle swallowed the wreckage of Daniel’s plane, its twisted metal groaning in protest as vines claimed it. Staggering free, Daniel squinted at the sonburned sky and the unfamiliar coastlnie, his radio silent. He stumbled toward smoke in the distance, drawn by hope. The village emerged, thatched roofs clustered around a square. People stared in starched collars and cloche hats, their eyes wide at his jumpsuit and reflective gear. \\n\\n“Good heavens!” a man exclaimed, clutching a newspaper dated June 12, 1923. “Did you fall from a zeppelin?”\\n\\nDaniel blinked. “No, from a Cessna—” \\n\\nBlank faces met the word. A young woman offered a glass bottle of Coca-Cola, her bobbed hair peeking beneath a beaded headband. “You look lost,” she said gently, her accent as crisp as a newsreel.\\n\\nDaniel’se watch and GPS were useless here. He realized he’d landed somewhere stranger than any map: a place where time itself had decided to stop.</td>\n",
       "      <td>1</td>\n",
       "    </tr>\n",
       "  </tbody>\n",
       "</table>\n",
       "</div>"
      ],
      "text/plain": [
       "                                  id  \\\n",
       "30   form_r_AAABmMMM-3l2k5OJcgBO152T   \n",
       "116    form_r_AeSZ88MED4djIBoclFA4VH   \n",
       "79     form_r_TwbHITgMyoaWc0DQkhI29p   \n",
       "127  form_r_AAABmI7MjOEK-tlH7VZBuLs_   \n",
       "190    form_r_a5OgcvBroE3H37yVkBe5kK   \n",
       "\n",
       "                                                                                                 topic  \\\n",
       "30                                                                           Marketing in the AI world   \n",
       "116                                                How film soundtracks drove candy sales in the 1990s   \n",
       "79   A museum guard watches the paintings move after closing time but can never catch them in the act.   \n",
       "127                                                  Within every piece of evil is a piece of humanity   \n",
       "190                A pilot crash-lands on an uncharted island inhabited by people who think it’s 1923.   \n",
       "\n",
       "                                                                                                                                                                                                                                                                                                                                                                                                                                                                                                                                                                                                                                                                                                                                                                                                                                                                                                                                                                                                                                                                           answer  \\\n",
       "30                                                                                                                                                                                                                    Marketing in the AI world is a very hot topic in todays time as every traditional method of marketing is getting reshaped according to the AI trends that we are seeing nowadays. From creating social media post to writing content for a particular project AI has help the marketers to create a new way of putting up things in front of the target audience. Digital Marketing has advanced 10x after the introduction of AI to we can single handedly create campaign extract data create KPI's and do a deep down analysis of how to reach the target audience. But the only disadvantage that we are currently facing with AI is the accuracy of data and information that is available on these platform if each and every information is correct and verified from the source then AI is the best thing that has happened to the Marketing world.   \n",
       "116  In the vibrant landscape of 1990s pop culture, film soundtracks and candy brands formed an unlikely but highly successful partnership. Major movie studios recognized that the music from blockbuster films—think “The Bodyguard” or “Space Jam”—could be leveraged beyond the box office. By integrating candy brands into both the films themselves and the surrounding soundtrack marketing, studios created immersive experiences that resonated with younger audiences. Product placements, such as Reese’s Pieces in “E.T.” or M&M’s in “Forrest Gump,” were reinforced by catchy soundtrack singles that dominated radio airwaves and MTV alike. As fans flocked to stores for the latest cassette or CD, strategically positioned candy displays mirrored the excitement of the moviegoing experience. This synergy transformed soundtracks into a marketing vehicle, driving spontaneous candy purchases and forging emotional connections bitween sweet treats and cinematic moments—a testament to the power of cross-promotion in the era’s marketing landscape.   \n",
       "79                                                                                                                          Every night, after the last visitor’s footsteps faded and the echo of closing doors settled into silence, Harold began his ronuds. The museum was a cathedral of stillness, yet Harold could never shake the feeling that he was not alone. Sometimes, in the periphery of his vision, he’d catch a flicker—a brushstroke shifting, a figure turning ever so slightly. He’d whirl around, flashlight beam trembling, but the galleries remained immaculate and motionless. The girl with the pearl earring always looked a bit more amusid, and the ships in the seascape seemed to ride rougher waves. Once, he was sure he heard a laugh—a low, conspiratorial giggle from the Renaissance wing. But when he hurried in, the only sound was his own breath. Each morning, the paintings sat as they always had, serene and static. Yet Harold knew, as surely as he knew his own name, that when the lights dimmed, the art remembered how to move.   \n",
       "127                                                                                                                                                                                                                                                                                                                                                                                                                                                                                   When a soldier is sent to war, He isn't controlled by his own thoughts, his own convictions, and his own values. But rather, by the orders from the hierarchy.\\n\\nHe has no voice, he has no choice. His heart might scream over an order given to him by the hierarchy, but he has no choice. Can you just imagine what this means!\\n\\nSomeone is being removed from his freedom to think, to act, and to defend his/her own values. usually, beneath those orders, is a silent voice that screams, a silent voice that cries. That is the human part of his being.\\n\\nBut what can he do?   \n",
       "190                                                                                                  The jungle swallowed the wreckage of Daniel’s plane, its twisted metal groaning in protest as vines claimed it. Staggering free, Daniel squinted at the sonburned sky and the unfamiliar coastlnie, his radio silent. He stumbled toward smoke in the distance, drawn by hope. The village emerged, thatched roofs clustered around a square. People stared in starched collars and cloche hats, their eyes wide at his jumpsuit and reflective gear. \\n\\n“Good heavens!” a man exclaimed, clutching a newspaper dated June 12, 1923. “Did you fall from a zeppelin?”\\n\\nDaniel blinked. “No, from a Cessna—” \\n\\nBlank faces met the word. A young woman offered a glass bottle of Coca-Cola, her bobbed hair peeking beneath a beaded headband. “You look lost,” she said gently, her accent as crisp as a newsreel.\\n\\nDaniel’se watch and GPS were useless here. He realized he’d landed somewhere stranger than any map: a place where time itself had decided to stop.   \n",
       "\n",
       "     is_cheating  \n",
       "30             0  \n",
       "116            1  \n",
       "79             1  \n",
       "127            0  \n",
       "190            1  "
      ]
     },
     "execution_count": 4,
     "metadata": {},
     "output_type": "execute_result"
    }
   ],
   "source": [
    "# Display all columns\n",
    "pd.set_option('display.max_colwidth', None)\n",
    "\n",
    "# Random few samples to inspect text structure\n",
    "df.sample(5, random_state=42)\n"
   ]
  },
  {
   "cell_type": "code",
   "execution_count": 5,
   "id": "16e4331a",
   "metadata": {
    "execution": {
     "iopub.execute_input": "2025-10-08T09:38:34.112537Z",
     "iopub.status.busy": "2025-10-08T09:38:34.112297Z",
     "iopub.status.idle": "2025-10-08T09:38:34.141011Z",
     "shell.execute_reply": "2025-10-08T09:38:34.140443Z"
    },
    "papermill": {
     "duration": 0.034182,
     "end_time": "2025-10-08T09:38:34.142207",
     "exception": false,
     "start_time": "2025-10-08T09:38:34.108025",
     "status": "completed"
    },
    "tags": []
   },
   "outputs": [
    {
     "name": "stdout",
     "output_type": "stream",
     "text": [
      "id             0\n",
      "topic          0\n",
      "answer         0\n",
      "is_cheating    0\n",
      "dtype: int64\n"
     ]
    },
    {
     "data": {
      "text/html": [
       "<div>\n",
       "<style scoped>\n",
       "    .dataframe tbody tr th:only-of-type {\n",
       "        vertical-align: middle;\n",
       "    }\n",
       "\n",
       "    .dataframe tbody tr th {\n",
       "        vertical-align: top;\n",
       "    }\n",
       "\n",
       "    .dataframe thead th {\n",
       "        text-align: right;\n",
       "    }\n",
       "</style>\n",
       "<table border=\"1\" class=\"dataframe\">\n",
       "  <thead>\n",
       "    <tr style=\"text-align: right;\">\n",
       "      <th></th>\n",
       "      <th>answer_length</th>\n",
       "      <th>topic_length</th>\n",
       "    </tr>\n",
       "  </thead>\n",
       "  <tbody>\n",
       "    <tr>\n",
       "      <th>count</th>\n",
       "      <td>269.000000</td>\n",
       "      <td>269.000000</td>\n",
       "    </tr>\n",
       "    <tr>\n",
       "      <th>mean</th>\n",
       "      <td>1053.052045</td>\n",
       "      <td>88.289963</td>\n",
       "    </tr>\n",
       "    <tr>\n",
       "      <th>std</th>\n",
       "      <td>676.411116</td>\n",
       "      <td>128.082841</td>\n",
       "    </tr>\n",
       "    <tr>\n",
       "      <th>min</th>\n",
       "      <td>142.000000</td>\n",
       "      <td>7.000000</td>\n",
       "    </tr>\n",
       "    <tr>\n",
       "      <th>25%</th>\n",
       "      <td>803.000000</td>\n",
       "      <td>43.000000</td>\n",
       "    </tr>\n",
       "    <tr>\n",
       "      <th>50%</th>\n",
       "      <td>983.000000</td>\n",
       "      <td>57.000000</td>\n",
       "    </tr>\n",
       "    <tr>\n",
       "      <th>75%</th>\n",
       "      <td>1084.000000</td>\n",
       "      <td>93.000000</td>\n",
       "    </tr>\n",
       "    <tr>\n",
       "      <th>max</th>\n",
       "      <td>6306.000000</td>\n",
       "      <td>1526.000000</td>\n",
       "    </tr>\n",
       "  </tbody>\n",
       "</table>\n",
       "</div>"
      ],
      "text/plain": [
       "       answer_length  topic_length\n",
       "count     269.000000    269.000000\n",
       "mean     1053.052045     88.289963\n",
       "std       676.411116    128.082841\n",
       "min       142.000000      7.000000\n",
       "25%       803.000000     43.000000\n",
       "50%       983.000000     57.000000\n",
       "75%      1084.000000     93.000000\n",
       "max      6306.000000   1526.000000"
      ]
     },
     "execution_count": 5,
     "metadata": {},
     "output_type": "execute_result"
    }
   ],
   "source": [
    "# Missing values\n",
    "print(df.isna().sum())\n",
    "\n",
    "# Length distributions\n",
    "df['answer_length'] = df['answer'].apply(lambda x: len(str(x)))\n",
    "df['topic_length'] = df['topic'].apply(lambda x: len(str(x)))\n",
    "\n",
    "df[['answer_length', 'topic_length']].describe()\n"
   ]
  },
  {
   "cell_type": "code",
   "execution_count": 6,
   "id": "5f2bd334",
   "metadata": {
    "execution": {
     "iopub.execute_input": "2025-10-08T09:38:34.150953Z",
     "iopub.status.busy": "2025-10-08T09:38:34.150747Z",
     "iopub.status.idle": "2025-10-08T09:38:34.185803Z",
     "shell.execute_reply": "2025-10-08T09:38:34.185282Z"
    },
    "papermill": {
     "duration": 0.04058,
     "end_time": "2025-10-08T09:38:34.186910",
     "exception": false,
     "start_time": "2025-10-08T09:38:34.146330",
     "status": "completed"
    },
    "tags": []
   },
   "outputs": [],
   "source": [
    "import re\n",
    "\n",
    "def clean_text(text):\n",
    "    text = str(text).lower()\n",
    "    text = re.sub(r'http\\S+', '', text)             # remove URLs\n",
    "    text = re.sub(r'[^a-zA-Z0-9\\s]', '', text)      # remove punctuation\n",
    "    text = re.sub(r'\\s+', ' ', text).strip()        # normalize spaces\n",
    "    return text\n",
    "\n",
    "df['topic_clean'] = df['topic'].apply(clean_text)\n",
    "df['answer_clean'] = df['answer'].apply(clean_text)\n"
   ]
  },
  {
   "cell_type": "code",
   "execution_count": 7,
   "id": "93a2afa9",
   "metadata": {
    "execution": {
     "iopub.execute_input": "2025-10-08T09:38:34.196003Z",
     "iopub.status.busy": "2025-10-08T09:38:34.195820Z",
     "iopub.status.idle": "2025-10-08T09:38:34.199704Z",
     "shell.execute_reply": "2025-10-08T09:38:34.199198Z"
    },
    "papermill": {
     "duration": 0.009672,
     "end_time": "2025-10-08T09:38:34.200823",
     "exception": false,
     "start_time": "2025-10-08T09:38:34.191151",
     "status": "completed"
    },
    "tags": []
   },
   "outputs": [],
   "source": [
    "df['text'] = df['topic_clean'] + \" \" + df['answer_clean']"
   ]
  },
  {
   "cell_type": "code",
   "execution_count": 8,
   "id": "01a18740",
   "metadata": {
    "execution": {
     "iopub.execute_input": "2025-10-08T09:38:34.209009Z",
     "iopub.status.busy": "2025-10-08T09:38:34.208825Z",
     "iopub.status.idle": "2025-10-08T09:38:37.060160Z",
     "shell.execute_reply": "2025-10-08T09:38:37.059318Z"
    },
    "papermill": {
     "duration": 2.856951,
     "end_time": "2025-10-08T09:38:37.061546",
     "exception": false,
     "start_time": "2025-10-08T09:38:34.204595",
     "status": "completed"
    },
    "tags": []
   },
   "outputs": [
    {
     "data": {
      "image/png": "[encoded data removed]",
      "text/plain": [
       "<Figure size 800x500 with 1 Axes>"
      ]
     },
     "metadata": {},
     "output_type": "display_data"
    },
    {
     "name": "stderr",
     "output_type": "stream",
     "text": [
      "/usr/local/lib/python3.11/dist-packages/seaborn/_oldcore.py:1119: FutureWarning: use_inf_as_na option is deprecated and will be removed in a future version. Convert inf values to NaN before operating instead.\n",
      "  with pd.option_context('mode.use_inf_as_na', True):\n"
     ]
    },
    {
     "data": {
      "image/png": "[encoded data removed]",
      "text/plain": [
       "<Figure size 800x500 with 1 Axes>"
      ]
     },
     "metadata": {},
     "output_type": "display_data"
    }
   ],
   "source": [
    "import matplotlib.pyplot as plt\n",
    "import seaborn as sns\n",
    "\n",
    "# Plot answer lengths by class\n",
    "plt.figure(figsize=(8,5))\n",
    "sns.boxplot(x='is_cheating', y='answer_length', data=df)\n",
    "plt.title(\"Answer Length Distribution by Cheating Label\")\n",
    "plt.xlabel(\"Is Cheating (1=Yes)\")\n",
    "plt.ylabel(\"Answer Length\")\n",
    "plt.show()\n",
    "\n",
    "# Histogram for overall answer length distribution\n",
    "plt.figure(figsize=(8,5))\n",
    "sns.histplot(df['answer_length'], bins=40, kde=True)\n",
    "plt.title(\"Overall Answer Length Distribution\")\n",
    "plt.xlabel(\"Answer Length (characters)\")\n",
    "plt.show()\n"
   ]
  },
  {
   "cell_type": "code",
   "execution_count": 9,
   "id": "6078ce2d",
   "metadata": {
    "execution": {
     "iopub.execute_input": "2025-10-08T09:38:37.072937Z",
     "iopub.status.busy": "2025-10-08T09:38:37.072397Z",
     "iopub.status.idle": "2025-10-08T09:38:37.088956Z",
     "shell.execute_reply": "2025-10-08T09:38:37.088126Z"
    },
    "papermill": {
     "duration": 0.023427,
     "end_time": "2025-10-08T09:38:37.090362",
     "exception": false,
     "start_time": "2025-10-08T09:38:37.066935",
     "status": "completed"
    },
    "tags": []
   },
   "outputs": [
    {
     "name": "stdout",
     "output_type": "stream",
     "text": [
      "Unique topics: 268\n",
      "topic\n",
      "Fiction                                                                                                   2\n",
      "The Unlikely Comeback of Analog Billboards in Smart Cities                                                1\n",
      "Social Media - Connect Us                                                                                 1\n",
      "The influence of weather on famous military blunders                                                      1\n",
      "Secret Menus: The Quiet Weapon of Fast Food Chains                                                        1\n",
      "A postman working the midnight shift starts delivering letters for people who died years ago.             1\n",
      "Travel blog content creation                                                                              1\n",
      "A child stumbles upon a locked garden where time passes differently for every plant.                      1\n",
      "The social lives of octopuses: intelligence in invertebrates                                              1\n",
      "Having a picnic with girls at the park in Belgium, where some speak French only and some English only.    1\n",
      "Name: count, dtype: int64\n",
      "topic\n",
      "unexpected humanity during wartime                                                                                                                                                                                                                                                                                                                                                                                                                                                                                         1.0\n",
      "influencer marketing                                                                                                                                                                                                                                                                                                                                                                                                                                                                                                       1.0\n",
      "A 1960s astronaut’s family receives mysterious postcards from the moon decades after his disappearance.                                                                                                                                                                                                                                                                                                                                                                                                                    1.0\n",
      "The use of 'found footage' style in social media advertising                                                                                                                                                                                                                                                                                                                                                                                                                                                               1.0\n",
      "The use of color in medieval manuscript illumination                                                                                                                                                                                                                                                                                                                                                                                                                                                                       1.0\n",
      "The world’s last typewriter store on a forgotten street attracts one customer each decade—today, it’s a teenager who never writes by hand.                                                                                                                                                                                                                                                                                                                                                                                 1.0\n",
      "The world’s most remote inhabited islands                                                                                                                                                                                                                                                                                                                                                                                                                                                                                  1.0\n",
      "This topic explores the rare and fleeting moments during wartime when soldiers experience a shared sense of humanity, despite being on opposing sides. It highlights how even in the most brutal settings, such as the trenches of World War I, small acts like music or sharing food can momentarily dissolve the boundaries of conflict and remind individuals of their common humanity. The focus will be on how these moments, though brief, leave lasting impressions and challenge the notion of absolute enmity.    1.0\n",
      "The secret aesthetics of hospital waiting rooms                                                                                                                                                                                                                                                                                                                                                                                                                                                                            1.0\n",
      "The secret language of railroad hobos in 1920s America                                                                                                                                                                                                                                                                                                                                                                                                                                                                     1.0\n",
      "Name: is_cheating, dtype: float64\n",
      "topic\n",
      "soldier's anxiety during World War I                                                                                                                                                                                                                                                                                                                                            0.0\n",
      "A blog post for new indie authors about whether to choose exclusive with KDP or publish eBooks wide.                                                                                                                                                                                                                                                                            0.0\n",
      "A bunch of college age students working at a Juice Stand realize the landlord raised the rent and they will soon be out of a job, inspired by a regular customer who, is a glamorous woman living well of very rich men, they decide to go all in and become reverse gold-diggers, seducing the wealthier customers that show up at the \"Juice Stand\" to live the good life.    0.0\n",
      "A dramatic romance scene exploring unresolved love, jealousy, and emotional conflict, with rising tension that blends vulnerability, passion, and suspense.                                                                                                                                                                                                                     0.0\n",
      "A funeral                                                                                                                                                                                                                                                                                                                                                                       0.0\n",
      "A girl in a village want to became an astronaut but the village people didn't believe her, so she feels lonely and wants someone in her life who could believe her and can make her dream come true.                                                                                                                                                                            0.0\n",
      "A journalistic review piece about the top 6 ai robot butlers available on the market                                                                                                                                                                                                                                                                                            0.0\n",
      "A marketing email campaign targeting school districts to promote an new education software aimed at enhancing how technology is used in teaching.                                                                                                                                                                                                                               0.0\n",
      "A person watches the sun set in the Himalayas as they reflect on their previous life.                                                                                                                                                                                                                                                                                           0.0\n",
      "A scene of a after war zone theme where two solders belongs opposite groups meet each other but not in the motive to kill or fight , they were little boys who were cherishing their movement of missing their home and yet alive .                                                                                                                                             0.0\n",
      "Name: is_cheating, dtype: float64\n"
     ]
    }
   ],
   "source": [
    "topic_counts = df['topic'].value_counts()\n",
    "print(\"Unique topics:\", len(topic_counts))\n",
    "print(topic_counts.head(10))\n",
    "\n",
    "# Check cheating ratios per topic\n",
    "topic_ratio = df.groupby('topic')['is_cheating'].mean().sort_values(ascending=False)\n",
    "print(topic_ratio.head(10))\n",
    "print(topic_ratio.tail(10))\n"
   ]
  },
  {
   "cell_type": "code",
   "execution_count": 10,
   "id": "f886b213",
   "metadata": {
    "execution": {
     "iopub.execute_input": "2025-10-08T09:38:37.101356Z",
     "iopub.status.busy": "2025-10-08T09:38:37.101046Z",
     "iopub.status.idle": "2025-10-08T09:38:37.105735Z",
     "shell.execute_reply": "2025-10-08T09:38:37.105131Z"
    },
    "papermill": {
     "duration": 0.011354,
     "end_time": "2025-10-08T09:38:37.106786",
     "exception": false,
     "start_time": "2025-10-08T09:38:37.095432",
     "status": "completed"
    },
    "tags": []
   },
   "outputs": [
    {
     "data": {
      "text/plain": [
       "Index(['id', 'topic', 'answer', 'is_cheating', 'answer_length', 'topic_length',\n",
       "       'topic_clean', 'answer_clean', 'text'],\n",
       "      dtype='object')"
      ]
     },
     "execution_count": 10,
     "metadata": {},
     "output_type": "execute_result"
    }
   ],
   "source": [
    "df.columns"
   ]
  },
  {
   "cell_type": "code",
   "execution_count": 11,
   "id": "efd5f5ca",
   "metadata": {
    "execution": {
     "iopub.execute_input": "2025-10-08T09:38:37.117766Z",
     "iopub.status.busy": "2025-10-08T09:38:37.117551Z",
     "iopub.status.idle": "2025-10-08T09:38:37.413995Z",
     "shell.execute_reply": "2025-10-08T09:38:37.413262Z"
    },
    "papermill": {
     "duration": 0.30382,
     "end_time": "2025-10-08T09:38:37.415608",
     "exception": false,
     "start_time": "2025-10-08T09:38:37.111788",
     "status": "completed"
    },
    "tags": []
   },
   "outputs": [],
   "source": [
    "import re\n",
    "import numpy as np\n",
    "import pandas as pd\n",
    "from scipy.sparse import hstack, csr_matrix\n",
    "from sklearn.feature_extraction.text import TfidfVectorizer\n",
    "\n",
    "def preprocess_and_vectorize(\n",
    "    df,\n",
    "    vectorizer=None,\n",
    "    fit_vectorizer=False,\n",
    "    is_train=True,\n",
    "    target_col=\"is_cheating\",\n",
    "    max_features=5000,\n",
    "    ngram_range=(1, 2),\n",
    "    stop_words=\"english\"\n",
    "):\n",
    "    \"\"\"\n",
    "    Preprocesses dataframe (train or test) and returns TF-IDF features concatenated\n",
    "    with numeric features. Also returns target (if present) and ids for test data.\n",
    "\n",
    "    Parameters\n",
    "    ----------\n",
    "    df : pd.DataFrame\n",
    "        Input dataframe containing 'topic' and 'answer'. For train should also contain target_col.\n",
    "    vectorizer : TfidfVectorizer or None\n",
    "        If provided and fit_vectorizer=False, will be used to transform text.\n",
    "        If provided and fit_vectorizer=True, it will be fit on this df.\n",
    "        If None and fit_vectorizer=True, a new TfidfVectorizer will be created with defaults below.\n",
    "    fit_vectorizer : bool\n",
    "        If True, fit the TF-IDF vectorizer on this dataframe's text (use for training).\n",
    "        If False, transform using the provided (already-fitted) vectorizer (use for test/inference).\n",
    "    is_train : bool\n",
    "        True for training data (returns X, y, vectorizer). False for test data (returns X, ids, vectorizer).\n",
    "    target_col : str\n",
    "        Column name for the target (default 'is_cheating').\n",
    "    max_features, ngram_range, stop_words : passed to TfidfVectorizer if created/fitted here.\n",
    "\n",
    "    Returns\n",
    "    -------\n",
    "    If is_train == True:\n",
    "        X_final : scipy.sparse.csr_matrix\n",
    "            Sparse matrix of TF-IDF features concatenated with numeric features [answer_length, topic_length].\n",
    "        y : np.ndarray\n",
    "            Target values (dtype=int).\n",
    "        vectorizer : TfidfVectorizer\n",
    "            The fitted vectorizer (useful for inference).\n",
    "    If is_train == False:\n",
    "        X_final : scipy.sparse.csr_matrix\n",
    "            Sparse matrix ready for model prediction.\n",
    "        ids : pd.Series\n",
    "            The id column for submission mapping.\n",
    "        vectorizer : TfidfVectorizer\n",
    "            The fitted vectorizer (must be provided or will be error).\n",
    "    \"\"\"\n",
    "\n",
    "    # Work on a copy and reset index to ensure alignment\n",
    "    df = df.copy().reset_index(drop=True)\n",
    "\n",
    "    # Basic cleaning helper (consistent with previous pipeline)\n",
    "    def clean_text(text):\n",
    "        text = \"\" if pd.isna(text) else str(text)\n",
    "        text = text.lower()\n",
    "        text = re.sub(r\"[^a-z0-9\\s]\", \" \", text)   # keep alphanumerics and whitespace\n",
    "        text = re.sub(r\"\\s+\", \" \", text).strip()\n",
    "        return text\n",
    "\n",
    "    # Create cleaned fields and combined text\n",
    "    df[\"topic_clean\"] = df[\"topic\"].apply(clean_text)\n",
    "    df[\"answer_clean\"] = df[\"answer\"].apply(clean_text)\n",
    "    df[\"text\"] = (df[\"topic_clean\"] + \" \" + df[\"answer_clean\"]).str.strip()\n",
    "\n",
    "    # Numeric features (word counts)\n",
    "    df[\"topic_length\"] = df[\"topic_clean\"].apply(lambda x: len(x.split()))\n",
    "    df[\"answer_length\"] = df[\"answer_clean\"].apply(lambda x: len(x.split()))\n",
    "\n",
    "    # Prepare vectorizer\n",
    "    if fit_vectorizer:\n",
    "        # create a default vectorizer if none provided\n",
    "        if vectorizer is None:\n",
    "            vectorizer = TfidfVectorizer(max_features=max_features,\n",
    "                                         ngram_range=ngram_range,\n",
    "                                         stop_words=stop_words)\n",
    "        # fit & transform\n",
    "        X_tfidf = vectorizer.fit_transform(df[\"text\"].values)\n",
    "    else:\n",
    "        # for inference we must have a fitted vectorizer\n",
    "        if vectorizer is None:\n",
    "            raise ValueError(\"A fitted vectorizer must be provided when fit_vectorizer=False\")\n",
    "        X_tfidf = vectorizer.transform(df[\"text\"].values)\n",
    "\n",
    "    # Numeric array (ensure numeric dtype)\n",
    "    numeric_arr = np.asarray(df[[\"answer_length\", \"topic_length\"]].astype(float).values)\n",
    "\n",
    "    # Combine sparse TF-IDF + dense numeric features into sparse matrix\n",
    "    X_final = hstack([X_tfidf, numeric_arr], format=\"csr\")\n",
    "    X_final = csr_matrix(X_final)  # ensure CSR\n",
    "\n",
    "    if is_train:\n",
    "        if target_col not in df.columns:\n",
    "            raise ValueError(f\"Training mode requested but target column '{target_col}' not found in dataframe.\")\n",
    "        y = df[target_col].astype(int).values\n",
    "        return X_final, y, vectorizer\n",
    "    else:\n",
    "        if \"id\" not in df.columns:\n",
    "            raise ValueError(\"Test mode requested but 'id' column is missing from dataframe.\")\n",
    "        ids = df[\"id\"]\n",
    "        return X_final, ids, vectorizer"
   ]
  },
  {
   "cell_type": "code",
   "execution_count": 12,
   "id": "8a736e28",
   "metadata": {
    "execution": {
     "iopub.execute_input": "2025-10-08T09:38:37.427054Z",
     "iopub.status.busy": "2025-10-08T09:38:37.426837Z",
     "iopub.status.idle": "2025-10-08T09:38:37.574779Z",
     "shell.execute_reply": "2025-10-08T09:38:37.573963Z"
    },
    "papermill": {
     "duration": 0.155007,
     "end_time": "2025-10-08T09:38:37.576135",
     "exception": false,
     "start_time": "2025-10-08T09:38:37.421128",
     "status": "completed"
    },
    "tags": []
   },
   "outputs": [],
   "source": [
    "X_train_final, y_train, vectorizer = preprocess_and_vectorize(df, fit_vectorizer=True)"
   ]
  },
  {
   "cell_type": "code",
   "execution_count": 13,
   "id": "763c061e",
   "metadata": {
    "execution": {
     "iopub.execute_input": "2025-10-08T09:38:37.586821Z",
     "iopub.status.busy": "2025-10-08T09:38:37.586595Z",
     "iopub.status.idle": "2025-10-08T09:38:37.613669Z",
     "shell.execute_reply": "2025-10-08T09:38:37.612956Z"
    },
    "papermill": {
     "duration": 0.033485,
     "end_time": "2025-10-08T09:38:37.614761",
     "exception": false,
     "start_time": "2025-10-08T09:38:37.581276",
     "status": "completed"
    },
    "tags": []
   },
   "outputs": [
    {
     "data": {
      "text/plain": [
       "Index(['id', 'topic', 'answer'], dtype='object')"
      ]
     },
     "execution_count": 13,
     "metadata": {},
     "output_type": "execute_result"
    }
   ],
   "source": [
    "test = pd.read_csv(\"/kaggle/input/mercor-ai-detection/test.csv\")\n",
    "test.columns"
   ]
  },
  {
   "cell_type": "code",
   "execution_count": 14,
   "id": "33be67da",
   "metadata": {
    "execution": {
     "iopub.execute_input": "2025-10-08T09:38:37.625573Z",
     "iopub.status.busy": "2025-10-08T09:38:37.625363Z",
     "iopub.status.idle": "2025-10-08T09:38:37.704863Z",
     "shell.execute_reply": "2025-10-08T09:38:37.704093Z"
    },
    "papermill": {
     "duration": 0.086353,
     "end_time": "2025-10-08T09:38:37.706031",
     "exception": false,
     "start_time": "2025-10-08T09:38:37.619678",
     "status": "completed"
    },
    "tags": []
   },
   "outputs": [],
   "source": [
    "X_sub_final, test_ids, _ = preprocess_and_vectorize(test, vectorizer=vectorizer, fit_vectorizer=False, is_train=False)"
   ]
  },
  {
   "cell_type": "code",
   "execution_count": 15,
   "id": "108d6b89",
   "metadata": {
    "execution": {
     "iopub.execute_input": "2025-10-08T09:38:37.716625Z",
     "iopub.status.busy": "2025-10-08T09:38:37.716419Z",
     "iopub.status.idle": "2025-10-08T09:38:37.894484Z",
     "shell.execute_reply": "2025-10-08T09:38:37.893580Z"
    },
    "papermill": {
     "duration": 0.18486,
     "end_time": "2025-10-08T09:38:37.895878",
     "exception": false,
     "start_time": "2025-10-08T09:38:37.711018",
     "status": "completed"
    },
    "tags": []
   },
   "outputs": [],
   "source": [
    "from sklearn.model_selection import train_test_split\n",
    "\n",
    "X_tr, X_val, y_tr, y_val = train_test_split(\n",
    "    X_train_final, y_train,\n",
    "    test_size=0.2,  # 80/20 split\n",
    "    random_state=42,\n",
    "    stratify=y_train  # keeps class balance\n",
    ")"
   ]
  },
  {
   "cell_type": "code",
   "execution_count": 16,
   "id": "b3aaf6c0",
   "metadata": {
    "execution": {
     "iopub.execute_input": "2025-10-08T09:38:37.906815Z",
     "iopub.status.busy": "2025-10-08T09:38:37.906586Z",
     "iopub.status.idle": "2025-10-08T09:38:44.859625Z",
     "shell.execute_reply": "2025-10-08T09:38:44.859124Z"
    },
    "papermill": {
     "duration": 6.959477,
     "end_time": "2025-10-08T09:38:44.860608",
     "exception": false,
     "start_time": "2025-10-08T09:38:37.901131",
     "status": "completed"
    },
    "tags": []
   },
   "outputs": [
    {
     "name": "stdout",
     "output_type": "stream",
     "text": [
      "[LightGBM] [Info] Number of positive: 117, number of negative: 98\n",
      "[LightGBM] [Info] Auto-choosing row-wise multi-threading, the overhead of testing was 0.003962 seconds.\n",
      "You can set `force_row_wise=true` to remove the overhead.\n",
      "And if memory is not enough, you can set `force_col_wise=true`.\n",
      "[LightGBM] [Info] Total Bins 697\n",
      "[LightGBM] [Info] Number of data points in the train set: 215, number of used features: 56\n",
      "[LightGBM] [Info] [binary:BoostFromScore]: pavg=0.544186 -> initscore=0.177206\n",
      "[LightGBM] [Info] Start training from score 0.177206\n",
      "[LightGBM] [Warning] No further splits with positive gain, best gain: -inf\n",
      "Training until validation scores don't improve for 30 rounds\n",
      "[LightGBM] [Warning] No further splits with positive gain, best gain: -inf\n",
      "[LightGBM] [Warning] No further splits with positive gain, best gain: -inf\n",
      "[LightGBM] [Warning] No further splits with positive gain, best gain: -inf\n",
      "[LightGBM] [Warning] No further splits with positive gain, best gain: -inf\n",
      "[LightGBM] [Warning] No further splits with positive gain, best gain: -inf\n",
      "[LightGBM] [Warning] No further splits with positive gain, best gain: -inf\n",
      "[LightGBM] [Warning] No further splits with positive gain, best gain: -inf\n",
      "[LightGBM] [Warning] No further splits with positive gain, best gain: -inf\n",
      "[LightGBM] [Warning] No further splits with positive gain, best gain: -inf\n",
      "[10]\tvalid_0's binary_logloss: 0.544781\n",
      "[LightGBM] [Warning] No further splits with positive gain, best gain: -inf\n",
      "[LightGBM] [Warning] No further splits with positive gain, best gain: -inf\n",
      "[LightGBM] [Warning] No further splits with positive gain, best gain: -inf\n",
      "[LightGBM] [Warning] No further splits with positive gain, best gain: -inf\n",
      "[LightGBM] [Warning] No further splits with positive gain, best gain: -inf\n",
      "[LightGBM] [Warning] No further splits with positive gain, best gain: -inf\n",
      "[LightGBM] [Warning] No further splits with positive gain, best gain: -inf\n",
      "[LightGBM] [Warning] No further splits with positive gain, best gain: -inf\n",
      "[LightGBM] [Warning] No further splits with positive gain, best gain: -inf\n",
      "[LightGBM] [Warning] No further splits with positive gain, best gain: -inf\n",
      "[20]\tvalid_0's binary_logloss: 0.486499\n",
      "[LightGBM] [Warning] No further splits with positive gain, best gain: -inf\n",
      "[LightGBM] [Warning] No further splits with positive gain, best gain: -inf\n",
      "[LightGBM] [Warning] No further splits with positive gain, best gain: -inf\n",
      "[LightGBM] [Warning] No further splits with positive gain, best gain: -inf\n",
      "[LightGBM] [Warning] No further splits with positive gain, best gain: -inf\n",
      "[LightGBM] [Warning] No further splits with positive gain, best gain: -inf\n",
      "[LightGBM] [Warning] No further splits with positive gain, best gain: -inf\n",
      "[LightGBM] [Warning] No further splits with positive gain, best gain: -inf\n",
      "[LightGBM] [Warning] No further splits with positive gain, best gain: -inf\n",
      "[LightGBM] [Warning] No further splits with positive gain, best gain: -inf\n",
      "[30]\tvalid_0's binary_logloss: 0.460145\n",
      "[LightGBM] [Warning] No further splits with positive gain, best gain: -inf\n",
      "[LightGBM] [Warning] No further splits with positive gain, best gain: -inf\n",
      "[LightGBM] [Warning] No further splits with positive gain, best gain: -inf\n",
      "[LightGBM] [Warning] No further splits with positive gain, best gain: -inf\n",
      "[LightGBM] [Warning] No further splits with positive gain, best gain: -inf\n",
      "[LightGBM] [Warning] No further splits with positive gain, best gain: -inf\n",
      "[LightGBM] [Warning] No further splits with positive gain, best gain: -inf\n",
      "[LightGBM] [Warning] No further splits with positive gain, best gain: -inf\n",
      "[LightGBM] [Warning] No further splits with positive gain, best gain: -inf\n",
      "[LightGBM] [Warning] No further splits with positive gain, best gain: -inf\n",
      "[40]\tvalid_0's binary_logloss: 0.437766\n",
      "[LightGBM] [Warning] No further splits with positive gain, best gain: -inf\n",
      "[LightGBM] [Warning] No further splits with positive gain, best gain: -inf\n",
      "[LightGBM] [Warning] No further splits with positive gain, best gain: -inf\n",
      "[LightGBM] [Warning] No further splits with positive gain, best gain: -inf\n",
      "[LightGBM] [Warning] No further splits with positive gain, best gain: -inf\n",
      "[LightGBM] [Warning] No further splits with positive gain, best gain: -inf\n",
      "[LightGBM] [Warning] No further splits with positive gain, best gain: -inf\n",
      "[LightGBM] [Warning] No further splits with positive gain, best gain: -inf\n",
      "[LightGBM] [Warning] No further splits with positive gain, best gain: -inf\n",
      "[LightGBM] [Warning] No further splits with positive gain, best gain: -inf\n",
      "[50]\tvalid_0's binary_logloss: 0.424362\n",
      "[LightGBM] [Warning] No further splits with positive gain, best gain: -inf\n",
      "[LightGBM] [Warning] No further splits with positive gain, best gain: -inf\n",
      "[LightGBM] [Warning] No further splits with positive gain, best gain: -inf\n",
      "[LightGBM] [Warning] No further splits with positive gain, best gain: -inf\n",
      "[LightGBM] [Warning] No further splits with positive gain, best gain: -inf\n",
      "[LightGBM] [Warning] No further splits with positive gain, best gain: -inf\n",
      "[LightGBM] [Warning] No further splits with positive gain, best gain: -inf\n",
      "[LightGBM] [Warning] No further splits with positive gain, best gain: -inf\n",
      "[LightGBM] [Warning] No further splits with positive gain, best gain: -inf\n",
      "[LightGBM] [Warning] No further splits with positive gain, best gain: -inf\n",
      "[60]\tvalid_0's binary_logloss: 0.419204\n",
      "[LightGBM] [Warning] No further splits with positive gain, best gain: -inf\n",
      "[LightGBM] [Warning] No further splits with positive gain, best gain: -inf\n",
      "[LightGBM] [Warning] No further splits with positive gain, best gain: -inf\n",
      "[LightGBM] [Warning] No further splits with positive gain, best gain: -inf\n",
      "[LightGBM] [Warning] No further splits with positive gain, best gain: -inf\n",
      "[LightGBM] [Warning] No further splits with positive gain, best gain: -inf\n",
      "[LightGBM] [Warning] No further splits with positive gain, best gain: -inf\n",
      "[LightGBM] [Warning] No further splits with positive gain, best gain: -inf\n",
      "[LightGBM] [Warning] No further splits with positive gain, best gain: -inf\n",
      "[LightGBM] [Warning] No further splits with positive gain, best gain: -inf\n",
      "[70]\tvalid_0's binary_logloss: 0.426725\n",
      "[LightGBM] [Warning] No further splits with positive gain, best gain: -inf\n",
      "[LightGBM] [Warning] No further splits with positive gain, best gain: -inf\n",
      "[LightGBM] [Warning] No further splits with positive gain, best gain: -inf\n",
      "[LightGBM] [Warning] No further splits with positive gain, best gain: -inf\n",
      "[LightGBM] [Warning] No further splits with positive gain, best gain: -inf\n",
      "[LightGBM] [Warning] No further splits with positive gain, best gain: -inf\n",
      "[LightGBM] [Warning] No further splits with positive gain, best gain: -inf\n",
      "[LightGBM] [Warning] No further splits with positive gain, best gain: -inf\n",
      "[LightGBM] [Warning] No further splits with positive gain, best gain: -inf\n",
      "[LightGBM] [Warning] No further splits with positive gain, best gain: -inf\n",
      "[80]\tvalid_0's binary_logloss: 0.436215\n",
      "[LightGBM] [Warning] No further splits with positive gain, best gain: -inf\n",
      "[LightGBM] [Warning] No further splits with positive gain, best gain: -inf\n",
      "[LightGBM] [Warning] No further splits with positive gain, best gain: -inf\n",
      "[LightGBM] [Warning] No further splits with positive gain, best gain: -inf\n",
      "[LightGBM] [Warning] No further splits with positive gain, best gain: -inf\n",
      "[LightGBM] [Warning] No further splits with positive gain, best gain: -inf\n",
      "[LightGBM] [Warning] No further splits with positive gain, best gain: -inf\n",
      "[LightGBM] [Warning] No further splits with positive gain, best gain: -inf\n",
      "[LightGBM] [Warning] No further splits with positive gain, best gain: -inf\n",
      "[LightGBM] [Warning] No further splits with positive gain, best gain: -inf\n",
      "[90]\tvalid_0's binary_logloss: 0.436954\n",
      "[LightGBM] [Warning] No further splits with positive gain, best gain: -inf\n",
      "[LightGBM] [Warning] No further splits with positive gain, best gain: -inf\n",
      "Early stopping, best iteration is:\n",
      "[62]\tvalid_0's binary_logloss: 0.418335\n"
     ]
    },
    {
     "data": {
      "text/html": [
       "<style>#sk-container-id-1 {color: black;background-color: white;}#sk-container-id-1 pre{padding: 0;}#sk-container-id-1 div.sk-toggleable {background-color: white;}#sk-container-id-1 label.sk-toggleable__label {cursor: pointer;display: block;width: 100%;margin-bottom: 0;padding: 0.3em;box-sizing: border-box;text-align: center;}#sk-container-id-1 label.sk-toggleable__label-arrow:before {content: \"▸\";float: left;margin-right: 0.25em;color: #696969;}#sk-container-id-1 label.sk-toggleable__label-arrow:hover:before {color: black;}#sk-container-id-1 div.sk-estimator:hover label.sk-toggleable__label-arrow:before {color: black;}#sk-container-id-1 div.sk-toggleable__content {max-height: 0;max-width: 0;overflow: hidden;text-align: left;background-color: #f0f8ff;}#sk-container-id-1 div.sk-toggleable__content pre {margin: 0.2em;color: black;border-radius: 0.25em;background-color: #f0f8ff;}#sk-container-id-1 input.sk-toggleable__control:checked~div.sk-toggleable__content {max-height: 200px;max-width: 100%;overflow: auto;}#sk-container-id-1 input.sk-toggleable__control:checked~label.sk-toggleable__label-arrow:before {content: \"▾\";}#sk-container-id-1 div.sk-estimator input.sk-toggleable__control:checked~label.sk-toggleable__label {background-color: #d4ebff;}#sk-container-id-1 div.sk-label input.sk-toggleable__control:checked~label.sk-toggleable__label {background-color: #d4ebff;}#sk-container-id-1 input.sk-hidden--visually {border: 0;clip: rect(1px 1px 1px 1px);clip: rect(1px, 1px, 1px, 1px);height: 1px;margin: -1px;overflow: hidden;padding: 0;position: absolute;width: 1px;}#sk-container-id-1 div.sk-estimator {font-family: monospace;background-color: #f0f8ff;border: 1px dotted black;border-radius: 0.25em;box-sizing: border-box;margin-bottom: 0.5em;}#sk-container-id-1 div.sk-estimator:hover {background-color: #d4ebff;}#sk-container-id-1 div.sk-parallel-item::after {content: \"\";width: 100%;border-bottom: 1px solid gray;flex-grow: 1;}#sk-container-id-1 div.sk-label:hover label.sk-toggleable__label {background-color: #d4ebff;}#sk-container-id-1 div.sk-serial::before {content: \"\";position: absolute;border-left: 1px solid gray;box-sizing: border-box;top: 0;bottom: 0;left: 50%;z-index: 0;}#sk-container-id-1 div.sk-serial {display: flex;flex-direction: column;align-items: center;background-color: white;padding-right: 0.2em;padding-left: 0.2em;position: relative;}#sk-container-id-1 div.sk-item {position: relative;z-index: 1;}#sk-container-id-1 div.sk-parallel {display: flex;align-items: stretch;justify-content: center;background-color: white;position: relative;}#sk-container-id-1 div.sk-item::before, #sk-container-id-1 div.sk-parallel-item::before {content: \"\";position: absolute;border-left: 1px solid gray;box-sizing: border-box;top: 0;bottom: 0;left: 50%;z-index: -1;}#sk-container-id-1 div.sk-parallel-item {display: flex;flex-direction: column;z-index: 1;position: relative;background-color: white;}#sk-container-id-1 div.sk-parallel-item:first-child::after {align-self: flex-end;width: 50%;}#sk-container-id-1 div.sk-parallel-item:last-child::after {align-self: flex-start;width: 50%;}#sk-container-id-1 div.sk-parallel-item:only-child::after {width: 0;}#sk-container-id-1 div.sk-dashed-wrapped {border: 1px dashed gray;margin: 0 0.4em 0.5em 0.4em;box-sizing: border-box;padding-bottom: 0.4em;background-color: white;}#sk-container-id-1 div.sk-label label {font-family: monospace;font-weight: bold;display: inline-block;line-height: 1.2em;}#sk-container-id-1 div.sk-label-container {text-align: center;}#sk-container-id-1 div.sk-container {/* jupyter's `normalize.less` sets `[hidden] { display: none; }` but bootstrap.min.css set `[hidden] { display: none !important; }` so we also need the `!important` here to be able to override the default hidden behavior on the sphinx rendered scikit-learn.org. See: https://github.com/scikit-learn/scikit-learn/issues/21755 */display: inline-block !important;position: relative;}#sk-container-id-1 div.sk-text-repr-fallback {display: none;}</style><div id=\"sk-container-id-1\" class=\"sk-top-container\"><div class=\"sk-text-repr-fallback\"><pre>LGBMClassifier(colsample_bytree=0.8, learning_rate=0.05, n_estimators=300,\n",
       "               n_jobs=-1, objective=&#x27;binary&#x27;, random_state=42, subsample=0.8)</pre><b>In a Jupyter environment, please rerun this cell to show the HTML representation or trust the notebook. <br />On GitHub, the HTML representation is unable to render, please try loading this page with nbviewer.org.</b></div><div class=\"sk-container\" hidden><div class=\"sk-item\"><div class=\"sk-estimator sk-toggleable\"><input class=\"sk-toggleable__control sk-hidden--visually\" id=\"sk-estimator-id-1\" type=\"checkbox\" checked><label for=\"sk-estimator-id-1\" class=\"sk-toggleable__label sk-toggleable__label-arrow\">LGBMClassifier</label><div class=\"sk-toggleable__content\"><pre>LGBMClassifier(colsample_bytree=0.8, learning_rate=0.05, n_estimators=300,\n",
       "               n_jobs=-1, objective=&#x27;binary&#x27;, random_state=42, subsample=0.8)</pre></div></div></div></div></div>"
      ],
      "text/plain": [
       "LGBMClassifier(colsample_bytree=0.8, learning_rate=0.05, n_estimators=300,\n",
       "               n_jobs=-1, objective='binary', random_state=42, subsample=0.8)"
      ]
     },
     "execution_count": 16,
     "metadata": {},
     "output_type": "execute_result"
    }
   ],
   "source": [
    "import lightgbm as lgb\n",
    "from sklearn.metrics import accuracy_score, classification_report\n",
    "\n",
    "model = lgb.LGBMClassifier(\n",
    "    objective=\"binary\",\n",
    "    learning_rate=0.05,\n",
    "    n_estimators=300,\n",
    "    num_leaves=31,\n",
    "    subsample=0.8,\n",
    "    colsample_bytree=0.8,\n",
    "    random_state=42,\n",
    "    n_jobs=-1\n",
    ")\n",
    "\n",
    "model.fit(\n",
    "    X_tr, y_tr,\n",
    "    eval_set=[(X_val, y_val)],\n",
    "    eval_metric=\"binary_logloss\",\n",
    "    callbacks=[lgb.early_stopping(stopping_rounds=30), lgb.log_evaluation(10)]\n",
    ")\n"
   ]
  },
  {
   "cell_type": "code",
   "execution_count": 17,
   "id": "67508ec4",
   "metadata": {
    "execution": {
     "iopub.execute_input": "2025-10-08T09:38:44.872714Z",
     "iopub.status.busy": "2025-10-08T09:38:44.871988Z",
     "iopub.status.idle": "2025-10-08T09:38:44.889351Z",
     "shell.execute_reply": "2025-10-08T09:38:44.888316Z"
    },
    "papermill": {
     "duration": 0.024601,
     "end_time": "2025-10-08T09:38:44.890628",
     "exception": false,
     "start_time": "2025-10-08T09:38:44.866027",
     "status": "completed"
    },
    "tags": []
   },
   "outputs": [
    {
     "name": "stdout",
     "output_type": "stream",
     "text": [
      "Accuracy: 0.8148148148148148\n",
      "ROC-AUC: 0.8916666666666667\n",
      "\n",
      "Classification Report:\n",
      "               precision    recall  f1-score   support\n",
      "\n",
      "           0       0.82      0.75      0.78        24\n",
      "           1       0.81      0.87      0.84        30\n",
      "\n",
      "    accuracy                           0.81        54\n",
      "   macro avg       0.82      0.81      0.81        54\n",
      "weighted avg       0.82      0.81      0.81        54\n",
      "\n"
     ]
    }
   ],
   "source": [
    "from sklearn.metrics import roc_auc_score\n",
    "\n",
    "y_val_pred = model.predict(X_val)\n",
    "y_val_proba = model.predict_proba(X_val)[:, 1]\n",
    "\n",
    "print(\"Accuracy:\", accuracy_score(y_val, y_val_pred))\n",
    "print(\"ROC-AUC:\", roc_auc_score(y_val, y_val_proba))\n",
    "print(\"\\nClassification Report:\\n\", classification_report(y_val, y_val_pred))\n"
   ]
  },
  {
   "cell_type": "code",
   "execution_count": 18,
   "id": "ed98bc5a",
   "metadata": {
    "execution": {
     "iopub.execute_input": "2025-10-08T09:38:44.903009Z",
     "iopub.status.busy": "2025-10-08T09:38:44.902826Z",
     "iopub.status.idle": "2025-10-08T09:38:45.043490Z",
     "shell.execute_reply": "2025-10-08T09:38:45.042641Z"
    },
    "papermill": {
     "duration": 0.148021,
     "end_time": "2025-10-08T09:38:45.044973",
     "exception": false,
     "start_time": "2025-10-08T09:38:44.896952",
     "status": "completed"
    },
    "tags": []
   },
   "outputs": [
    {
     "name": "stdout",
     "output_type": "stream",
     "text": [
      "[LightGBM] [Info] Number of positive: 147, number of negative: 122\n",
      "[LightGBM] [Info] Auto-choosing col-wise multi-threading, the overhead of testing was 0.000601 seconds.\n",
      "You can set `force_col_wise=true` to remove the overhead.\n",
      "[LightGBM] [Info] Total Bins 1172\n",
      "[LightGBM] [Info] Number of data points in the train set: 269, number of used features: 96\n",
      "[LightGBM] [Info] [binary:BoostFromScore]: pavg=0.546468 -> initscore=0.186412\n",
      "[LightGBM] [Info] Start training from score 0.186412\n",
      "[LightGBM] [Warning] No further splits with positive gain, best gain: -inf\n",
      "[LightGBM] [Warning] No further splits with positive gain, best gain: -inf\n",
      "[LightGBM] [Warning] No further splits with positive gain, best gain: -inf\n",
      "[LightGBM] [Warning] No further splits with positive gain, best gain: -inf\n",
      "[LightGBM] [Warning] No further splits with positive gain, best gain: -inf\n",
      "[LightGBM] [Warning] No further splits with positive gain, best gain: -inf\n",
      "[LightGBM] [Warning] No further splits with positive gain, best gain: -inf\n",
      "[LightGBM] [Warning] No further splits with positive gain, best gain: -inf\n",
      "[LightGBM] [Warning] No further splits with positive gain, best gain: -inf\n",
      "[LightGBM] [Warning] No further splits with positive gain, best gain: -inf\n",
      "[LightGBM] [Warning] No further splits with positive gain, best gain: -inf\n",
      "[LightGBM] [Warning] No further splits with positive gain, best gain: -inf\n",
      "[LightGBM] [Warning] No further splits with positive gain, best gain: -inf\n",
      "[LightGBM] [Warning] No further splits with positive gain, best gain: -inf\n",
      "[LightGBM] [Warning] No further splits with positive gain, best gain: -inf\n",
      "[LightGBM] [Warning] No further splits with positive gain, best gain: -inf\n",
      "[LightGBM] [Warning] No further splits with positive gain, best gain: -inf\n",
      "[LightGBM] [Warning] No further splits with positive gain, best gain: -inf\n",
      "[LightGBM] [Warning] No further splits with positive gain, best gain: -inf\n",
      "[LightGBM] [Warning] No further splits with positive gain, best gain: -inf\n",
      "[LightGBM] [Warning] No further splits with positive gain, best gain: -inf\n",
      "[LightGBM] [Warning] No further splits with positive gain, best gain: -inf\n",
      "[LightGBM] [Warning] No further splits with positive gain, best gain: -inf\n",
      "[LightGBM] [Warning] No further splits with positive gain, best gain: -inf\n",
      "[LightGBM] [Warning] No further splits with positive gain, best gain: -inf\n",
      "[LightGBM] [Warning] No further splits with positive gain, best gain: -inf\n",
      "[LightGBM] [Warning] No further splits with positive gain, best gain: -inf\n",
      "[LightGBM] [Warning] No further splits with positive gain, best gain: -inf\n",
      "[LightGBM] [Warning] No further splits with positive gain, best gain: -inf\n",
      "[LightGBM] [Warning] No further splits with positive gain, best gain: -inf\n",
      "[LightGBM] [Warning] No further splits with positive gain, best gain: -inf\n",
      "[LightGBM] [Warning] No further splits with positive gain, best gain: -inf\n",
      "[LightGBM] [Warning] No further splits with positive gain, best gain: -inf\n",
      "[LightGBM] [Warning] No further splits with positive gain, best gain: -inf\n",
      "[LightGBM] [Warning] No further splits with positive gain, best gain: -inf\n",
      "[LightGBM] [Warning] No further splits with positive gain, best gain: -inf\n",
      "[LightGBM] [Warning] No further splits with positive gain, best gain: -inf\n",
      "[LightGBM] [Warning] No further splits with positive gain, best gain: -inf\n",
      "[LightGBM] [Warning] No further splits with positive gain, best gain: -inf\n",
      "[LightGBM] [Warning] No further splits with positive gain, best gain: -inf\n",
      "[LightGBM] [Warning] No further splits with positive gain, best gain: -inf\n",
      "[LightGBM] [Warning] No further splits with positive gain, best gain: -inf\n",
      "[LightGBM] [Warning] No further splits with positive gain, best gain: -inf\n",
      "[LightGBM] [Warning] No further splits with positive gain, best gain: -inf\n",
      "[LightGBM] [Warning] No further splits with positive gain, best gain: -inf\n",
      "[LightGBM] [Warning] No further splits with positive gain, best gain: -inf\n",
      "[LightGBM] [Warning] No further splits with positive gain, best gain: -inf\n",
      "[LightGBM] [Warning] No further splits with positive gain, best gain: -inf\n",
      "[LightGBM] [Warning] No further splits with positive gain, best gain: -inf\n",
      "[LightGBM] [Warning] No further splits with positive gain, best gain: -inf\n",
      "[LightGBM] [Warning] No further splits with positive gain, best gain: -inf\n",
      "[LightGBM] [Warning] No further splits with positive gain, best gain: -inf\n",
      "[LightGBM] [Warning] No further splits with positive gain, best gain: -inf\n",
      "[LightGBM] [Warning] No further splits with positive gain, best gain: -inf\n",
      "[LightGBM] [Warning] No further splits with positive gain, best gain: -inf\n",
      "[LightGBM] [Warning] No further splits with positive gain, best gain: -inf\n",
      "[LightGBM] [Warning] No further splits with positive gain, best gain: -inf\n",
      "[LightGBM] [Warning] No further splits with positive gain, best gain: -inf\n",
      "[LightGBM] [Warning] No further splits with positive gain, best gain: -inf\n",
      "[LightGBM] [Warning] No further splits with positive gain, best gain: -inf\n",
      "[LightGBM] [Warning] No further splits with positive gain, best gain: -inf\n",
      "[LightGBM] [Warning] No further splits with positive gain, best gain: -inf\n",
      "[LightGBM] [Warning] No further splits with positive gain, best gain: -inf\n",
      "[LightGBM] [Warning] No further splits with positive gain, best gain: -inf\n",
      "[LightGBM] [Warning] No further splits with positive gain, best gain: -inf\n",
      "[LightGBM] [Warning] No further splits with positive gain, best gain: -inf\n",
      "[LightGBM] [Warning] No further splits with positive gain, best gain: -inf\n",
      "[LightGBM] [Warning] No further splits with positive gain, best gain: -inf\n",
      "[LightGBM] [Warning] No further splits with positive gain, best gain: -inf\n",
      "[LightGBM] [Warning] No further splits with positive gain, best gain: -inf\n",
      "[LightGBM] [Warning] No further splits with positive gain, best gain: -inf\n",
      "[LightGBM] [Warning] No further splits with positive gain, best gain: -inf\n",
      "[LightGBM] [Warning] No further splits with positive gain, best gain: -inf\n",
      "[LightGBM] [Warning] No further splits with positive gain, best gain: -inf\n",
      "[LightGBM] [Warning] No further splits with positive gain, best gain: -inf\n",
      "[LightGBM] [Warning] No further splits with positive gain, best gain: -inf\n",
      "[LightGBM] [Warning] No further splits with positive gain, best gain: -inf\n",
      "[LightGBM] [Warning] No further splits with positive gain, best gain: -inf\n",
      "[LightGBM] [Warning] No further splits with positive gain, best gain: -inf\n",
      "[LightGBM] [Warning] No further splits with positive gain, best gain: -inf\n",
      "[LightGBM] [Warning] No further splits with positive gain, best gain: -inf\n",
      "[LightGBM] [Warning] No further splits with positive gain, best gain: -inf\n",
      "[LightGBM] [Warning] No further splits with positive gain, best gain: -inf\n",
      "[LightGBM] [Warning] No further splits with positive gain, best gain: -inf\n",
      "[LightGBM] [Warning] No further splits with positive gain, best gain: -inf\n",
      "[LightGBM] [Warning] No further splits with positive gain, best gain: -inf\n",
      "[LightGBM] [Warning] No further splits with positive gain, best gain: -inf\n",
      "[LightGBM] [Warning] No further splits with positive gain, best gain: -inf\n",
      "[LightGBM] [Warning] No further splits with positive gain, best gain: -inf\n",
      "[LightGBM] [Warning] No further splits with positive gain, best gain: -inf\n",
      "[LightGBM] [Warning] No further splits with positive gain, best gain: -inf\n",
      "[LightGBM] [Warning] No further splits with positive gain, best gain: -inf\n",
      "[LightGBM] [Warning] No further splits with positive gain, best gain: -inf\n",
      "[LightGBM] [Warning] No further splits with positive gain, best gain: -inf\n",
      "[LightGBM] [Warning] No further splits with positive gain, best gain: -inf\n",
      "[LightGBM] [Warning] No further splits with positive gain, best gain: -inf\n",
      "[LightGBM] [Warning] No further splits with positive gain, best gain: -inf\n",
      "[LightGBM] [Warning] No further splits with positive gain, best gain: -inf\n",
      "[LightGBM] [Warning] No further splits with positive gain, best gain: -inf\n",
      "[LightGBM] [Warning] No further splits with positive gain, best gain: -inf\n",
      "[LightGBM] [Warning] No further splits with positive gain, best gain: -inf\n",
      "[LightGBM] [Warning] No further splits with positive gain, best gain: -inf\n",
      "[LightGBM] [Warning] No further splits with positive gain, best gain: -inf\n",
      "[LightGBM] [Warning] No further splits with positive gain, best gain: -inf\n",
      "[LightGBM] [Warning] No further splits with positive gain, best gain: -inf\n",
      "[LightGBM] [Warning] No further splits with positive gain, best gain: -inf\n",
      "[LightGBM] [Warning] No further splits with positive gain, best gain: -inf\n",
      "[LightGBM] [Warning] No further splits with positive gain, best gain: -inf\n",
      "[LightGBM] [Warning] No further splits with positive gain, best gain: -inf\n",
      "[LightGBM] [Warning] No further splits with positive gain, best gain: -inf\n",
      "[LightGBM] [Warning] No further splits with positive gain, best gain: -inf\n",
      "[LightGBM] [Warning] No further splits with positive gain, best gain: -inf\n",
      "[LightGBM] [Warning] No further splits with positive gain, best gain: -inf\n",
      "[LightGBM] [Warning] No further splits with positive gain, best gain: -inf\n",
      "[LightGBM] [Warning] No further splits with positive gain, best gain: -inf\n",
      "[LightGBM] [Warning] No further splits with positive gain, best gain: -inf\n",
      "[LightGBM] [Warning] No further splits with positive gain, best gain: -inf\n",
      "[LightGBM] [Warning] No further splits with positive gain, best gain: -inf\n",
      "[LightGBM] [Warning] No further splits with positive gain, best gain: -inf\n",
      "[LightGBM] [Warning] No further splits with positive gain, best gain: -inf\n",
      "[LightGBM] [Warning] No further splits with positive gain, best gain: -inf\n",
      "[LightGBM] [Warning] No further splits with positive gain, best gain: -inf\n",
      "[LightGBM] [Warning] No further splits with positive gain, best gain: -inf\n",
      "[LightGBM] [Warning] No further splits with positive gain, best gain: -inf\n",
      "[LightGBM] [Warning] No further splits with positive gain, best gain: -inf\n",
      "[LightGBM] [Warning] No further splits with positive gain, best gain: -inf\n",
      "[LightGBM] [Warning] No further splits with positive gain, best gain: -inf\n",
      "[LightGBM] [Warning] No further splits with positive gain, best gain: -inf\n",
      "[LightGBM] [Warning] No further splits with positive gain, best gain: -inf\n",
      "[LightGBM] [Warning] No further splits with positive gain, best gain: -inf\n",
      "[LightGBM] [Warning] No further splits with positive gain, best gain: -inf\n",
      "[LightGBM] [Warning] No further splits with positive gain, best gain: -inf\n",
      "[LightGBM] [Warning] No further splits with positive gain, best gain: -inf\n",
      "[LightGBM] [Warning] No further splits with positive gain, best gain: -inf\n",
      "[LightGBM] [Warning] No further splits with positive gain, best gain: -inf\n",
      "[LightGBM] [Warning] No further splits with positive gain, best gain: -inf\n",
      "[LightGBM] [Warning] No further splits with positive gain, best gain: -inf\n",
      "[LightGBM] [Warning] No further splits with positive gain, best gain: -inf\n",
      "[LightGBM] [Warning] No further splits with positive gain, best gain: -inf\n",
      "[LightGBM] [Warning] No further splits with positive gain, best gain: -inf\n",
      "[LightGBM] [Warning] No further splits with positive gain, best gain: -inf\n",
      "[LightGBM] [Warning] No further splits with positive gain, best gain: -inf\n",
      "[LightGBM] [Warning] No further splits with positive gain, best gain: -inf\n",
      "[LightGBM] [Warning] No further splits with positive gain, best gain: -inf\n",
      "[LightGBM] [Warning] No further splits with positive gain, best gain: -inf\n",
      "[LightGBM] [Warning] No further splits with positive gain, best gain: -inf\n",
      "[LightGBM] [Warning] No further splits with positive gain, best gain: -inf\n",
      "[LightGBM] [Warning] No further splits with positive gain, best gain: -inf\n",
      "[LightGBM] [Warning] No further splits with positive gain, best gain: -inf\n",
      "[LightGBM] [Warning] No further splits with positive gain, best gain: -inf\n",
      "[LightGBM] [Warning] No further splits with positive gain, best gain: -inf\n",
      "[LightGBM] [Warning] No further splits with positive gain, best gain: -inf\n",
      "[LightGBM] [Warning] No further splits with positive gain, best gain: -inf\n",
      "[LightGBM] [Warning] No further splits with positive gain, best gain: -inf\n",
      "[LightGBM] [Warning] No further splits with positive gain, best gain: -inf\n",
      "[LightGBM] [Warning] No further splits with positive gain, best gain: -inf\n",
      "[LightGBM] [Warning] No further splits with positive gain, best gain: -inf\n",
      "[LightGBM] [Warning] No further splits with positive gain, best gain: -inf\n",
      "[LightGBM] [Warning] No further splits with positive gain, best gain: -inf\n",
      "[LightGBM] [Warning] No further splits with positive gain, best gain: -inf\n",
      "[LightGBM] [Warning] No further splits with positive gain, best gain: -inf\n",
      "[LightGBM] [Warning] No further splits with positive gain, best gain: -inf\n",
      "[LightGBM] [Warning] No further splits with positive gain, best gain: -inf\n",
      "[LightGBM] [Warning] No further splits with positive gain, best gain: -inf\n",
      "[LightGBM] [Warning] No further splits with positive gain, best gain: -inf\n",
      "[LightGBM] [Warning] No further splits with positive gain, best gain: -inf\n",
      "[LightGBM] [Warning] No further splits with positive gain, best gain: -inf\n",
      "[LightGBM] [Warning] No further splits with positive gain, best gain: -inf\n",
      "[LightGBM] [Warning] No further splits with positive gain, best gain: -inf\n",
      "[LightGBM] [Warning] No further splits with positive gain, best gain: -inf\n",
      "[LightGBM] [Warning] No further splits with positive gain, best gain: -inf\n",
      "[LightGBM] [Warning] No further splits with positive gain, best gain: -inf\n",
      "[LightGBM] [Warning] No further splits with positive gain, best gain: -inf\n",
      "[LightGBM] [Warning] No further splits with positive gain, best gain: -inf\n",
      "[LightGBM] [Warning] No further splits with positive gain, best gain: -inf\n",
      "[LightGBM] [Warning] No further splits with positive gain, best gain: -inf\n",
      "[LightGBM] [Warning] No further splits with positive gain, best gain: -inf\n",
      "[LightGBM] [Warning] No further splits with positive gain, best gain: -inf\n",
      "[LightGBM] [Warning] No further splits with positive gain, best gain: -inf\n",
      "[LightGBM] [Warning] No further splits with positive gain, best gain: -inf\n",
      "[LightGBM] [Warning] No further splits with positive gain, best gain: -inf\n",
      "[LightGBM] [Warning] No further splits with positive gain, best gain: -inf\n",
      "[LightGBM] [Warning] No further splits with positive gain, best gain: -inf\n",
      "[LightGBM] [Warning] No further splits with positive gain, best gain: -inf\n",
      "[LightGBM] [Warning] No further splits with positive gain, best gain: -inf\n",
      "[LightGBM] [Warning] No further splits with positive gain, best gain: -inf\n",
      "[LightGBM] [Warning] No further splits with positive gain, best gain: -inf\n",
      "[LightGBM] [Warning] No further splits with positive gain, best gain: -inf\n",
      "[LightGBM] [Warning] No further splits with positive gain, best gain: -inf\n",
      "[LightGBM] [Warning] No further splits with positive gain, best gain: -inf\n",
      "[LightGBM] [Warning] No further splits with positive gain, best gain: -inf\n",
      "[LightGBM] [Warning] No further splits with positive gain, best gain: -inf\n",
      "[LightGBM] [Warning] No further splits with positive gain, best gain: -inf\n",
      "[LightGBM] [Warning] No further splits with positive gain, best gain: -inf\n",
      "[LightGBM] [Warning] No further splits with positive gain, best gain: -inf\n",
      "[LightGBM] [Warning] No further splits with positive gain, best gain: -inf\n",
      "[LightGBM] [Warning] No further splits with positive gain, best gain: -inf\n",
      "[LightGBM] [Warning] No further splits with positive gain, best gain: -inf\n",
      "[LightGBM] [Warning] No further splits with positive gain, best gain: -inf\n",
      "[LightGBM] [Warning] No further splits with positive gain, best gain: -inf\n",
      "[LightGBM] [Warning] No further splits with positive gain, best gain: -inf\n",
      "[LightGBM] [Warning] No further splits with positive gain, best gain: -inf\n",
      "[LightGBM] [Warning] No further splits with positive gain, best gain: -inf\n",
      "[LightGBM] [Warning] No further splits with positive gain, best gain: -inf\n",
      "[LightGBM] [Warning] No further splits with positive gain, best gain: -inf\n",
      "[LightGBM] [Warning] No further splits with positive gain, best gain: -inf\n",
      "[LightGBM] [Warning] No further splits with positive gain, best gain: -inf\n",
      "[LightGBM] [Warning] No further splits with positive gain, best gain: -inf\n",
      "[LightGBM] [Warning] No further splits with positive gain, best gain: -inf\n",
      "[LightGBM] [Warning] No further splits with positive gain, best gain: -inf\n",
      "[LightGBM] [Warning] No further splits with positive gain, best gain: -inf\n",
      "[LightGBM] [Warning] No further splits with positive gain, best gain: -inf\n",
      "[LightGBM] [Warning] No further splits with positive gain, best gain: -inf\n",
      "[LightGBM] [Warning] No further splits with positive gain, best gain: -inf\n",
      "[LightGBM] [Warning] No further splits with positive gain, best gain: -inf\n",
      "[LightGBM] [Warning] No further splits with positive gain, best gain: -inf\n",
      "[LightGBM] [Warning] No further splits with positive gain, best gain: -inf\n",
      "[LightGBM] [Warning] No further splits with positive gain, best gain: -inf\n",
      "[LightGBM] [Warning] No further splits with positive gain, best gain: -inf\n",
      "[LightGBM] [Warning] No further splits with positive gain, best gain: -inf\n",
      "[LightGBM] [Warning] No further splits with positive gain, best gain: -inf\n",
      "[LightGBM] [Warning] No further splits with positive gain, best gain: -inf\n",
      "[LightGBM] [Warning] No further splits with positive gain, best gain: -inf\n",
      "[LightGBM] [Warning] No further splits with positive gain, best gain: -inf\n",
      "[LightGBM] [Warning] No further splits with positive gain, best gain: -inf\n",
      "[LightGBM] [Warning] No further splits with positive gain, best gain: -inf\n",
      "[LightGBM] [Warning] No further splits with positive gain, best gain: -inf\n",
      "[LightGBM] [Warning] No further splits with positive gain, best gain: -inf\n",
      "[LightGBM] [Warning] No further splits with positive gain, best gain: -inf\n",
      "[LightGBM] [Warning] No further splits with positive gain, best gain: -inf\n",
      "[LightGBM] [Warning] No further splits with positive gain, best gain: -inf\n",
      "[LightGBM] [Warning] No further splits with positive gain, best gain: -inf\n",
      "[LightGBM] [Warning] No further splits with positive gain, best gain: -inf\n",
      "[LightGBM] [Warning] No further splits with positive gain, best gain: -inf\n",
      "[LightGBM] [Warning] No further splits with positive gain, best gain: -inf\n",
      "[LightGBM] [Warning] No further splits with positive gain, best gain: -inf\n",
      "[LightGBM] [Warning] No further splits with positive gain, best gain: -inf\n",
      "[LightGBM] [Warning] No further splits with positive gain, best gain: -inf\n",
      "[LightGBM] [Warning] No further splits with positive gain, best gain: -inf\n",
      "[LightGBM] [Warning] No further splits with positive gain, best gain: -inf\n",
      "[LightGBM] [Warning] No further splits with positive gain, best gain: -inf\n",
      "[LightGBM] [Warning] No further splits with positive gain, best gain: -inf\n",
      "[LightGBM] [Warning] No further splits with positive gain, best gain: -inf\n",
      "[LightGBM] [Warning] No further splits with positive gain, best gain: -inf\n",
      "[LightGBM] [Warning] No further splits with positive gain, best gain: -inf\n",
      "[LightGBM] [Warning] No further splits with positive gain, best gain: -inf\n",
      "[LightGBM] [Warning] No further splits with positive gain, best gain: -inf\n",
      "[LightGBM] [Warning] No further splits with positive gain, best gain: -inf\n",
      "[LightGBM] [Warning] No further splits with positive gain, best gain: -inf\n",
      "[LightGBM] [Warning] No further splits with positive gain, best gain: -inf\n",
      "[LightGBM] [Warning] No further splits with positive gain, best gain: -inf\n",
      "[LightGBM] [Warning] No further splits with positive gain, best gain: -inf\n",
      "[LightGBM] [Warning] No further splits with positive gain, best gain: -inf\n",
      "[LightGBM] [Warning] No further splits with positive gain, best gain: -inf\n",
      "[LightGBM] [Warning] No further splits with positive gain, best gain: -inf\n",
      "[LightGBM] [Warning] No further splits with positive gain, best gain: -inf\n",
      "[LightGBM] [Warning] No further splits with positive gain, best gain: -inf\n",
      "[LightGBM] [Warning] No further splits with positive gain, best gain: -inf\n",
      "[LightGBM] [Warning] No further splits with positive gain, best gain: -inf\n",
      "[LightGBM] [Warning] No further splits with positive gain, best gain: -inf\n",
      "[LightGBM] [Warning] No further splits with positive gain, best gain: -inf\n",
      "[LightGBM] [Warning] No further splits with positive gain, best gain: -inf\n",
      "[LightGBM] [Warning] No further splits with positive gain, best gain: -inf\n",
      "[LightGBM] [Warning] No further splits with positive gain, best gain: -inf\n",
      "[LightGBM] [Warning] No further splits with positive gain, best gain: -inf\n",
      "[LightGBM] [Warning] No further splits with positive gain, best gain: -inf\n",
      "[LightGBM] [Warning] No further splits with positive gain, best gain: -inf\n",
      "[LightGBM] [Warning] No further splits with positive gain, best gain: -inf\n",
      "[LightGBM] [Warning] No further splits with positive gain, best gain: -inf\n",
      "[LightGBM] [Warning] No further splits with positive gain, best gain: -inf\n",
      "[LightGBM] [Warning] No further splits with positive gain, best gain: -inf\n",
      "[LightGBM] [Warning] No further splits with positive gain, best gain: -inf\n",
      "[LightGBM] [Warning] No further splits with positive gain, best gain: -inf\n",
      "[LightGBM] [Warning] No further splits with positive gain, best gain: -inf\n",
      "[LightGBM] [Warning] No further splits with positive gain, best gain: -inf\n",
      "[LightGBM] [Warning] No further splits with positive gain, best gain: -inf\n",
      "[LightGBM] [Warning] No further splits with positive gain, best gain: -inf\n",
      "[LightGBM] [Warning] No further splits with positive gain, best gain: -inf\n",
      "[LightGBM] [Warning] No further splits with positive gain, best gain: -inf\n",
      "[LightGBM] [Warning] No further splits with positive gain, best gain: -inf\n",
      "[LightGBM] [Warning] No further splits with positive gain, best gain: -inf\n",
      "[LightGBM] [Warning] No further splits with positive gain, best gain: -inf\n",
      "[LightGBM] [Warning] No further splits with positive gain, best gain: -inf\n",
      "[LightGBM] [Warning] No further splits with positive gain, best gain: -inf\n",
      "[LightGBM] [Warning] No further splits with positive gain, best gain: -inf\n",
      "[LightGBM] [Warning] No further splits with positive gain, best gain: -inf\n",
      "[LightGBM] [Warning] No further splits with positive gain, best gain: -inf\n",
      "[LightGBM] [Warning] No further splits with positive gain, best gain: -inf\n",
      "[LightGBM] [Warning] No further splits with positive gain, best gain: -inf\n",
      "[LightGBM] [Warning] No further splits with positive gain, best gain: -inf\n",
      "[LightGBM] [Warning] No further splits with positive gain, best gain: -inf\n",
      "[LightGBM] [Warning] No further splits with positive gain, best gain: -inf\n",
      "[LightGBM] [Warning] No further splits with positive gain, best gain: -inf\n",
      "[LightGBM] [Warning] No further splits with positive gain, best gain: -inf\n",
      "[LightGBM] [Warning] No further splits with positive gain, best gain: -inf\n",
      "[LightGBM] [Warning] No further splits with positive gain, best gain: -inf\n",
      "[LightGBM] [Warning] No further splits with positive gain, best gain: -inf\n",
      "[LightGBM] [Warning] No further splits with positive gain, best gain: -inf\n",
      "[LightGBM] [Warning] No further splits with positive gain, best gain: -inf\n",
      "[LightGBM] [Warning] No further splits with positive gain, best gain: -inf\n"
     ]
    },
    {
     "data": {
      "text/html": [
       "<style>#sk-container-id-2 {color: black;background-color: white;}#sk-container-id-2 pre{padding: 0;}#sk-container-id-2 div.sk-toggleable {background-color: white;}#sk-container-id-2 label.sk-toggleable__label {cursor: pointer;display: block;width: 100%;margin-bottom: 0;padding: 0.3em;box-sizing: border-box;text-align: center;}#sk-container-id-2 label.sk-toggleable__label-arrow:before {content: \"▸\";float: left;margin-right: 0.25em;color: #696969;}#sk-container-id-2 label.sk-toggleable__label-arrow:hover:before {color: black;}#sk-container-id-2 div.sk-estimator:hover label.sk-toggleable__label-arrow:before {color: black;}#sk-container-id-2 div.sk-toggleable__content {max-height: 0;max-width: 0;overflow: hidden;text-align: left;background-color: #f0f8ff;}#sk-container-id-2 div.sk-toggleable__content pre {margin: 0.2em;color: black;border-radius: 0.25em;background-color: #f0f8ff;}#sk-container-id-2 input.sk-toggleable__control:checked~div.sk-toggleable__content {max-height: 200px;max-width: 100%;overflow: auto;}#sk-container-id-2 input.sk-toggleable__control:checked~label.sk-toggleable__label-arrow:before {content: \"▾\";}#sk-container-id-2 div.sk-estimator input.sk-toggleable__control:checked~label.sk-toggleable__label {background-color: #d4ebff;}#sk-container-id-2 div.sk-label input.sk-toggleable__control:checked~label.sk-toggleable__label {background-color: #d4ebff;}#sk-container-id-2 input.sk-hidden--visually {border: 0;clip: rect(1px 1px 1px 1px);clip: rect(1px, 1px, 1px, 1px);height: 1px;margin: -1px;overflow: hidden;padding: 0;position: absolute;width: 1px;}#sk-container-id-2 div.sk-estimator {font-family: monospace;background-color: #f0f8ff;border: 1px dotted black;border-radius: 0.25em;box-sizing: border-box;margin-bottom: 0.5em;}#sk-container-id-2 div.sk-estimator:hover {background-color: #d4ebff;}#sk-container-id-2 div.sk-parallel-item::after {content: \"\";width: 100%;border-bottom: 1px solid gray;flex-grow: 1;}#sk-container-id-2 div.sk-label:hover label.sk-toggleable__label {background-color: #d4ebff;}#sk-container-id-2 div.sk-serial::before {content: \"\";position: absolute;border-left: 1px solid gray;box-sizing: border-box;top: 0;bottom: 0;left: 50%;z-index: 0;}#sk-container-id-2 div.sk-serial {display: flex;flex-direction: column;align-items: center;background-color: white;padding-right: 0.2em;padding-left: 0.2em;position: relative;}#sk-container-id-2 div.sk-item {position: relative;z-index: 1;}#sk-container-id-2 div.sk-parallel {display: flex;align-items: stretch;justify-content: center;background-color: white;position: relative;}#sk-container-id-2 div.sk-item::before, #sk-container-id-2 div.sk-parallel-item::before {content: \"\";position: absolute;border-left: 1px solid gray;box-sizing: border-box;top: 0;bottom: 0;left: 50%;z-index: -1;}#sk-container-id-2 div.sk-parallel-item {display: flex;flex-direction: column;z-index: 1;position: relative;background-color: white;}#sk-container-id-2 div.sk-parallel-item:first-child::after {align-self: flex-end;width: 50%;}#sk-container-id-2 div.sk-parallel-item:last-child::after {align-self: flex-start;width: 50%;}#sk-container-id-2 div.sk-parallel-item:only-child::after {width: 0;}#sk-container-id-2 div.sk-dashed-wrapped {border: 1px dashed gray;margin: 0 0.4em 0.5em 0.4em;box-sizing: border-box;padding-bottom: 0.4em;background-color: white;}#sk-container-id-2 div.sk-label label {font-family: monospace;font-weight: bold;display: inline-block;line-height: 1.2em;}#sk-container-id-2 div.sk-label-container {text-align: center;}#sk-container-id-2 div.sk-container {/* jupyter's `normalize.less` sets `[hidden] { display: none; }` but bootstrap.min.css set `[hidden] { display: none !important; }` so we also need the `!important` here to be able to override the default hidden behavior on the sphinx rendered scikit-learn.org. See: https://github.com/scikit-learn/scikit-learn/issues/21755 */display: inline-block !important;position: relative;}#sk-container-id-2 div.sk-text-repr-fallback {display: none;}</style><div id=\"sk-container-id-2\" class=\"sk-top-container\"><div class=\"sk-text-repr-fallback\"><pre>LGBMClassifier(colsample_bytree=0.8, learning_rate=0.05, n_estimators=300,\n",
       "               n_jobs=-1, objective=&#x27;binary&#x27;, random_state=42, subsample=0.8)</pre><b>In a Jupyter environment, please rerun this cell to show the HTML representation or trust the notebook. <br />On GitHub, the HTML representation is unable to render, please try loading this page with nbviewer.org.</b></div><div class=\"sk-container\" hidden><div class=\"sk-item\"><div class=\"sk-estimator sk-toggleable\"><input class=\"sk-toggleable__control sk-hidden--visually\" id=\"sk-estimator-id-2\" type=\"checkbox\" checked><label for=\"sk-estimator-id-2\" class=\"sk-toggleable__label sk-toggleable__label-arrow\">LGBMClassifier</label><div class=\"sk-toggleable__content\"><pre>LGBMClassifier(colsample_bytree=0.8, learning_rate=0.05, n_estimators=300,\n",
       "               n_jobs=-1, objective=&#x27;binary&#x27;, random_state=42, subsample=0.8)</pre></div></div></div></div></div>"
      ],
      "text/plain": [
       "LGBMClassifier(colsample_bytree=0.8, learning_rate=0.05, n_estimators=300,\n",
       "               n_jobs=-1, objective='binary', random_state=42, subsample=0.8)"
      ]
     },
     "execution_count": 18,
     "metadata": {},
     "output_type": "execute_result"
    }
   ],
   "source": [
    "# retrain on full training data\n",
    "final_model = lgb.LGBMClassifier(**model.get_params())\n",
    "final_model.fit(X_train_final, y_train)\n"
   ]
  },
  {
   "cell_type": "code",
   "execution_count": 19,
   "id": "3fba0e74",
   "metadata": {
    "execution": {
     "iopub.execute_input": "2025-10-08T09:38:45.059036Z",
     "iopub.status.busy": "2025-10-08T09:38:45.058576Z",
     "iopub.status.idle": "2025-10-08T09:38:45.070871Z",
     "shell.execute_reply": "2025-10-08T09:38:45.070334Z"
    },
    "papermill": {
     "duration": 0.02057,
     "end_time": "2025-10-08T09:38:45.072739",
     "exception": false,
     "start_time": "2025-10-08T09:38:45.052169",
     "status": "completed"
    },
    "tags": []
   },
   "outputs": [],
   "source": [
    "test_preds = final_model.predict(X_sub_final)\n",
    "\n",
    "submission = pd.DataFrame({\n",
    "    \"id\": test_ids,\n",
    "    \"is_cheating\": test_preds\n",
    "})\n",
    "submission.to_csv(\"submission.csv\", index=False)"
   ]
  }
 ],
 "metadata": {
  "kaggle": {
   "accelerator": "nvidiaTeslaT4",
   "dataSources": [
    {
     "databundleVersionId": 13997762,
     "sourceId": 117171,
     "sourceType": "competition"
    }
   ],
   "dockerImageVersionId": 31153,
   "isGpuEnabled": true,
   "isInternetEnabled": true,
   "language": "python",
   "sourceType": "notebook"
  },
  "kernelspec": {
   "display_name": "Python 3",
   "language": "python",
   "name": "python3"
  },
  "language_info": {
   "codemirror_mode": {
    "name": "ipython",
    "version": 3
   },
   "file_extension": ".py",
   "mimetype": "text/x-python",
   "name": "python",
   "nbconvert_exporter": "python",
   "pygments_lexer": "ipython3",
   "version": "3.11.13"
  },
  "papermill": {
   "default_parameters": {},
   "duration": 18.859066,
   "end_time": "2025-10-08T09:38:45.799054",
   "environment_variables": {},
   "exception": null,
   "input_path": "__notebook__.ipynb",
   "output_path": "__notebook__.ipynb",
   "parameters": {},
   "start_time": "2025-10-08T09:38:26.939988",
   "version": "2.6.0"
  }
 },
 "nbformat": 4,
 "nbformat_minor": 5
}
