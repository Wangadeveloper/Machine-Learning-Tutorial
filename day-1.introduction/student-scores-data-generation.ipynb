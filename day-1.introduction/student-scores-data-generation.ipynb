{
 "cells": [
  {
   "cell_type": "code",
   "execution_count": 1,
   "id": "436fdfe2",
   "metadata": {
    "execution": {
     "iopub.execute_input": "2025-09-16T12:12:59.505636Z",
     "iopub.status.busy": "2025-09-16T12:12:59.505267Z",
     "iopub.status.idle": "2025-09-16T12:13:01.481326Z",
     "shell.execute_reply": "2025-09-16T12:13:01.480265Z"
    },
    "executionInfo": {
     "elapsed": 319,
     "status": "ok",
     "timestamp": 1757939017576,
     "user": {
      "displayName": "WANGA PETER OTIENO PA106/G/15065/21",
      "userId": "04631351876979831553"
     },
     "user_tz": -180
    },
    "id": "IgMeHLvBU1bL",
    "outputId": "59951880-f619-49ca-b553-d22afc817295",
    "papermill": {
     "duration": 1.981103,
     "end_time": "2025-09-16T12:13:01.483122",
     "exception": false,
     "start_time": "2025-09-16T12:12:59.502019",
     "status": "completed"
    },
    "tags": []
   },
   "outputs": [
    {
     "name": "stdout",
     "output_type": "stream",
     "text": [
      "   Hours_Studied  Sleep_Hours  Attendance  Exam_Score\n",
      "0              7            7          79       111.5\n",
      "1              4            6          81        89.5\n",
      "2              8            8          87       118.5\n",
      "3              5            7          99       104.5\n",
      "4              7            6          66       102.0\n"
     ]
    }
   ],
   "source": [
    "import pandas as pd\n",
    "import numpy as np\n",
    "\n",
    "# Set seed for reproducibility\n",
    "np.random.seed(42)\n",
    "\n",
    "# Generate synthetic data\n",
    "n = 500\n",
    "hours_studied = np.random.randint(1, 10, n)\n",
    "sleep_hours = np.random.randint(4, 9, n)\n",
    "attendance = np.random.randint(60, 100, n)\n",
    "\n",
    "# Formula for exam score (with some randomness)\n",
    "exam_score = (hours_studied * 7) + (sleep_hours * 3) + (attendance * 0.5) + np.random.randint(-5, 5, n)\n",
    "\n",
    "# Build dataframe\n",
    "df = pd.DataFrame({\n",
    "    \"Hours_Studied\": hours_studied,\n",
    "    \"Sleep_Hours\": sleep_hours,\n",
    "    \"Attendance\": attendance,\n",
    "    \"Exam_Score\": exam_score\n",
    "})\n",
    "\n",
    "# Save to CSV\n",
    "df.to_csv(\"student_performance.csv\", index=False)\n",
    "print(df.head())\n"
   ]
  },
  {
   "cell_type": "code",
   "execution_count": null,
   "id": "d73dc2c1",
   "metadata": {
    "id": "9fDSWxpvVGz6",
    "papermill": {
     "duration": 0.001475,
     "end_time": "2025-09-16T12:13:01.486552",
     "exception": false,
     "start_time": "2025-09-16T12:13:01.485077",
     "status": "completed"
    },
    "tags": []
   },
   "outputs": [],
   "source": []
  }
 ],
 "metadata": {
  "colab": {
   "authorship_tag": "ABX9TyPBLVneKWGB4RuKznSSvrCi",
   "provenance": []
  },
  "kaggle": {
   "accelerator": "none",
   "dataSources": [],
   "isGpuEnabled": false,
   "isInternetEnabled": true,
   "language": "python",
   "sourceType": "notebook"
  },
  "kernelspec": {
   "display_name": "Python 3",
   "name": "python3"
  },
  "language_info": {
   "codemirror_mode": {
    "name": "ipython",
    "version": 3
   },
   "file_extension": ".py",
   "mimetype": "text/x-python",
   "name": "python",
   "nbconvert_exporter": "python",
   "pygments_lexer": "ipython3",
   "version": "3.11.13"
  },
  "papermill": {
   "default_parameters": {},
   "duration": 7.883415,
   "end_time": "2025-09-16T12:13:02.007845",
   "environment_variables": {},
   "exception": null,
   "input_path": "__notebook__.ipynb",
   "output_path": "__notebook__.ipynb",
   "parameters": {},
   "start_time": "2025-09-16T12:12:54.124430",
   "version": "2.6.0"
  }
 },
 "nbformat": 4,
 "nbformat_minor": 5
}
